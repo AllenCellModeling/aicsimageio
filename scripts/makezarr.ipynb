{
 "cells": [
  {
   "cell_type": "code",
   "execution_count": 1,
   "id": "1908a9c2-31de-46ba-b461-fa81f515487b",
   "metadata": {},
   "outputs": [],
   "source": [
    "import os\n",
    "from aicsimageio.writers import OmeZarrWriter\n",
    "from aicsimageio import AICSImage\n",
    "from aicsimageio.dimensions import DimensionNames, DEFAULT_CHUNK_DIMS"
   ]
  },
  {
   "cell_type": "code",
   "execution_count": 2,
   "id": "7b5001be",
   "metadata": {},
   "outputs": [],
   "source": [
    "chunk_dims= [\n",
    "    DimensionNames.SpatialZ,\n",
    "    DimensionNames.SpatialY,\n",
    "    DimensionNames.SpatialX,\n",
    "    DimensionNames.Samples,\n",
    "]\n",
    "filepath = \"//allen/aics/assay-dev/MicroscopyData/Frick/2022/20220217/LLS/AD00000198/Lamin_multi-06-Deskew-28.czi\"\n",
    "# filepath = \"E:\\\\data\\\\AICS-11_16415.ome.tif\"\n",
    "img = AICSImage(filepath, chunk_dims=chunk_dims)"
   ]
  },
  {
   "cell_type": "code",
   "execution_count": 3,
   "id": "d8847835-b420-48b1-9df2-09078e9a9b05",
   "metadata": {},
   "outputs": [],
   "source": [
    "from distributed import LocalCluster, Client\n",
    "cluster = LocalCluster(processes=True)  # threaded instead of multiprocess\n",
    "client = Client(cluster)"
   ]
  },
  {
   "cell_type": "code",
   "execution_count": 4,
   "id": "561c6a3d-8501-41c2-982b-a546d0e6c814",
   "metadata": {},
   "outputs": [
    {
     "name": "stdout",
     "output_type": "stream",
     "text": [
      "('Image:0',)\n",
      "1\n",
      "(241, 2, 150, 1297, 2048)\n",
      "['LatticeLightsheet', 'LatticeLightsheet_2']\n",
      "PhysicalPixelSizes(Z=0.4, Y=0.14499219272808386, X=0.14499219272808386)\n",
      "dask.array<transpose, shape=(241, 2, 150, 1297, 2048), dtype=uint16, chunksize=(1, 1, 150, 1297, 2048), chunktype=numpy.ndarray>\n"
     ]
    }
   ],
   "source": [
    "# print some data about the image we loaded\n",
    "scenes = img.scenes\n",
    "print(scenes)\n",
    "print(str(len(scenes)))\n",
    "data = img.get_image_dask_data(\"TCZYX\")\n",
    "print(data.shape)\n",
    "print(img.channel_names)\n",
    "print(img.physical_pixel_sizes)\n",
    "print(data)"
   ]
  },
  {
   "cell_type": "code",
   "execution_count": null,
   "id": "29956cd4-ddb3-4181-a3e8-3a0b96d4bc5f",
   "metadata": {},
   "outputs": [
    {
     "name": "stdout",
     "output_type": "stream",
     "text": [
      "Image_0\n",
      "(1, 1, 1, 1297, 2048)\n"
     ]
    },
    {
     "name": "stderr",
     "output_type": "stream",
     "text": [
      "C:\\Users\\danielt\\Anaconda3\\envs\\aicsimageio\\lib\\site-packages\\zarr\\creation.py:230: UserWarning: ignoring keyword argument 'array_key'\n",
      "  warn('ignoring keyword argument %r' % k)\n",
      "C:\\Users\\danielt\\Anaconda3\\envs\\aicsimageio\\lib\\site-packages\\zarr\\creation.py:230: UserWarning: ignoring keyword argument 'array_key'\n",
      "  warn('ignoring keyword argument %r' % k)\n"
     ]
    }
   ],
   "source": [
    "# TODO: add generated thumbnail image with name \"thumbnail\" as 2d rgb data? or 3 channels?\n",
    "# TODO compression?\n",
    "# TODO loop over scenes!\n",
    "\n",
    "# construct some per-channel lists to feed in to the writer.\n",
    "# hardcoding to 9 for now\n",
    "channel_colors = [0xff0000, 0x00ff00, 0x0000ff, 0xffff00, 0xff00ff, 0x00ffff, 0x880000, 0x008800, 0x000088]\n",
    "pps = img.physical_pixel_sizes\n",
    "cn = img.channel_names\n",
    "\n",
    "mypath = \"\\\\\\\\allen\\\\aics\\\\animated-cell\\\\Dan\\\\Lamin2.zarr\"\n",
    "# TODO: for all scenes in file:\n",
    "scenename = scenes[0]\n",
    "scenename = scenename.replace(\":\",\"_\")\n",
    "\n",
    "print(scenename)\n",
    "chunksize = (1,1,1)+data.shape[-2:]\n",
    "print(chunksize)\n",
    "\n",
    "writer = OmeZarrWriter(mypath)\n",
    "\n",
    "writer.write_image(\n",
    "    image_data=data,  # : types.ArrayLike,  # must be 5D TCZYX\n",
    "    image_name=scenename,  #: str,\n",
    "    physical_pixel_sizes=pps, # : Optional[types.PhysicalPixelSizes],\n",
    "    channel_names=cn, # : Optional[List[str]],\n",
    "    channel_colors=channel_colors, # : Optional[List[int]],\n",
    "    scale_num_levels=2, # : int = 1,\n",
    "    scale_factor=4.0, #  : float = 2.0,\n",
    ")\n",
    "print(os.listdir(mypath))"
   ]
  },
  {
   "cell_type": "code",
   "execution_count": 5,
   "id": "7ddfd030",
   "metadata": {},
   "outputs": [
    {
     "name": "stdout",
     "output_type": "stream",
     "text": [
      "2\n",
      "shape  (241, 2, 150, 1297, 2048)\n",
      "chunks  ((1, 1, 1, 1, 1, 1, 1, 1, 1, 1, 1, 1, 1, 1, 1, 1, 1, 1, 1, 1, 1, 1, 1, 1, 1, 1, 1, 1, 1, 1, 1, 1, 1, 1, 1, 1, 1, 1, 1, 1, 1, 1, 1, 1, 1, 1, 1, 1, 1, 1, 1, 1, 1, 1, 1, 1, 1, 1, 1, 1, 1, 1, 1, 1, 1, 1, 1, 1, 1, 1, 1, 1, 1, 1, 1, 1, 1, 1, 1, 1, 1, 1, 1, 1, 1, 1, 1, 1, 1, 1, 1, 1, 1, 1, 1, 1, 1, 1, 1, 1, 1, 1, 1, 1, 1, 1, 1, 1, 1, 1, 1, 1, 1, 1, 1, 1, 1, 1, 1, 1, 1, 1, 1, 1, 1, 1, 1, 1, 1, 1, 1, 1, 1, 1, 1, 1, 1, 1, 1, 1, 1, 1, 1, 1, 1, 1, 1, 1, 1, 1, 1, 1, 1, 1, 1, 1, 1, 1, 1, 1, 1, 1, 1, 1, 1, 1, 1, 1, 1, 1, 1, 1, 1, 1, 1, 1, 1, 1, 1, 1, 1, 1, 1, 1, 1, 1, 1, 1, 1, 1, 1, 1, 1, 1, 1, 1, 1, 1, 1, 1, 1, 1, 1, 1, 1, 1, 1, 1, 1, 1, 1, 1, 1, 1, 1, 1, 1, 1, 1, 1, 1, 1, 1, 1, 1, 1, 1, 1, 1, 1, 1, 1, 1, 1, 1, 1, 1, 1, 1, 1, 1), (1, 1), (4, 4, 4, 4, 4, 4, 4, 4, 4, 4, 4, 4, 4, 4, 4, 4, 4, 4, 4, 4, 4, 4, 4, 4, 4, 4, 4, 4, 4, 4, 4, 4, 4, 4, 4, 4, 4, 2), (1297,), (2048,))\n",
      "shape  (241, 2, 150, 325, 512)\n",
      "chunks  ((1, 1, 1, 1, 1, 1, 1, 1, 1, 1, 1, 1, 1, 1, 1, 1, 1, 1, 1, 1, 1, 1, 1, 1, 1, 1, 1, 1, 1, 1, 1, 1, 1, 1, 1, 1, 1, 1, 1, 1, 1, 1, 1, 1, 1, 1, 1, 1, 1, 1, 1, 1, 1, 1, 1, 1, 1, 1, 1, 1, 1, 1, 1, 1, 1, 1, 1, 1, 1, 1, 1, 1, 1, 1, 1, 1, 1, 1, 1, 1, 1, 1, 1, 1, 1, 1, 1, 1, 1, 1, 1, 1, 1, 1, 1, 1, 1, 1, 1, 1, 1, 1, 1, 1, 1, 1, 1, 1, 1, 1, 1, 1, 1, 1, 1, 1, 1, 1, 1, 1, 1, 1, 1, 1, 1, 1, 1, 1, 1, 1, 1, 1, 1, 1, 1, 1, 1, 1, 1, 1, 1, 1, 1, 1, 1, 1, 1, 1, 1, 1, 1, 1, 1, 1, 1, 1, 1, 1, 1, 1, 1, 1, 1, 1, 1, 1, 1, 1, 1, 1, 1, 1, 1, 1, 1, 1, 1, 1, 1, 1, 1, 1, 1, 1, 1, 1, 1, 1, 1, 1, 1, 1, 1, 1, 1, 1, 1, 1, 1, 1, 1, 1, 1, 1, 1, 1, 1, 1, 1, 1, 1, 1, 1, 1, 1, 1, 1, 1, 1, 1, 1, 1, 1, 1, 1, 1, 1, 1, 1, 1, 1, 1, 1, 1, 1, 1, 1, 1, 1, 1, 1), (1, 1), (51, 51, 48), (325,), (512,))\n"
     ]
    }
   ],
   "source": [
    "from ome_zarr.reader import Multiscales, Reader\n",
    "from ome_zarr.io import parse_url\n",
    "mypath = \"\\\\\\\\allen\\\\aics\\\\animated-cell\\\\Dan\\\\Lamin_multi-06-Deskew-28.zarr\"\n",
    "# TODO: for all scenes in file:\n",
    "scenename = scenes[0]\n",
    "scenename = scenename.replace(\":\",\"_\")\n",
    "\n",
    "reader = Reader(parse_url(mypath + \"/\" + scenename))\n",
    "node = list(reader())[0]\n",
    "# levels\n",
    "print(len(node.data))\n",
    "for i in range(len(node.data)):\n",
    "    print(\"shape \", node.data[i].shape)\n",
    "    print(\"chunks \", node.data[i].chunks)\n",
    "\n",
    "# assert node.data[0].chunks == ((1,), (2,), (1,), (128, 128), (128, 128))"
   ]
  },
  {
   "cell_type": "code",
   "execution_count": 6,
   "id": "00bff414",
   "metadata": {},
   "outputs": [
    {
     "data": {
      "application/vnd.jupyter.widget-view+json": {
       "model_id": "a1bb3882265a4c87b02b6dc8568137ac",
       "version_major": 2,
       "version_minor": 0
      },
      "text/plain": [
       "VolumeWidget(dimensions={'tile_width': 204, 'tile_height': 128, 'rows': 16, 'cols': 10, 'atlas_width': 2040, '…"
      ]
     },
     "metadata": {},
     "output_type": "display_data"
    }
   ],
   "source": [
    "import nbvv\n",
    "level = 1\n",
    "levelxyscale = 4\n",
    "nbvv.volshow(node.data[level][1][0:2].compute(), spacing=(img.physical_pixel_sizes.X*levelxyscale,\n",
    "        img.physical_pixel_sizes.Y*levelxyscale,\n",
    "        img.physical_pixel_sizes.Z))"
   ]
  },
  {
   "cell_type": "code",
   "execution_count": null,
   "id": "8f5765d5",
   "metadata": {},
   "outputs": [],
   "source": []
  }
 ],
 "metadata": {
  "kernelspec": {
   "display_name": "Python 3 (ipykernel)",
   "language": "python",
   "name": "python3"
  },
  "language_info": {
   "codemirror_mode": {
    "name": "ipython",
    "version": 3
   },
   "file_extension": ".py",
   "mimetype": "text/x-python",
   "name": "python",
   "nbconvert_exporter": "python",
   "pygments_lexer": "ipython3",
   "version": "3.8.12"
  },
  "toc-autonumbering": false,
  "toc-showcode": false,
  "toc-showmarkdowntxt": false,
  "toc-showtags": true
 },
 "nbformat": 4,
 "nbformat_minor": 5
}
