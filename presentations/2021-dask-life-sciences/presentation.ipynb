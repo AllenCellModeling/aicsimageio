{
 "cells": [
  {
   "cell_type": "code",
   "execution_count": 1,
   "id": "2fa63f1e-4f78-4ea7-8b70-8e9d8ed81c1e",
   "metadata": {
    "slideshow": {
     "slide_type": "skip"
    },
    "tags": []
   },
   "outputs": [],
   "source": [
    "import warnings\n",
    "warnings.filterwarnings('ignore')"
   ]
  },
  {
   "cell_type": "markdown",
   "id": "e4ccbb0e-bf29-4966-9f88-112219c266c0",
   "metadata": {},
   "source": [
    "# AICSImageIO\n",
    "### Microscopy Image IO in Pure Python\n",
    "\n",
    "<br>\n",
    "\n",
    "Dask Summit 2021, Life Sciences Workshop\n",
    "\n",
    "Jackson Maxfield Brown"
   ]
  },
  {
   "cell_type": "markdown",
   "id": "eb6adf07-e744-4fbd-9cc3-b589dca02a70",
   "metadata": {
    "slideshow": {
     "slide_type": "slide"
    },
    "tags": []
   },
   "source": [
    "## In This Talk\n",
    "\n",
    "1. What is AICSImageIO\n",
    "2. Issues with Image Processing\n",
    "3. What's New and Where We Are Going"
   ]
  },
  {
   "cell_type": "markdown",
   "id": "7e5f8cba-006f-4da0-a988-a896aafe35f3",
   "metadata": {
    "slideshow": {
     "slide_type": "slide"
    },
    "tags": []
   },
   "source": [
    "## AICSImageIO At a High Level\n",
    "\n",
    "AICSImageIO aims to provide a **consistent intuitive API for reading in or out-of-memory image pixel data and metadata** ...\n",
    "\n",
    "We don't try to do any fancy processing - instead we are solely concerned about pure Python Microscopy file IO and _\"good\"_ metadata attachment and utilization."
   ]
  },
  {
   "cell_type": "markdown",
   "id": "2013904a-2b08-495b-9a0e-555c54ac860c",
   "metadata": {
    "slideshow": {
     "slide_type": "slide"
    },
    "tags": []
   },
   "source": [
    "### Dimensions -- Order and Shape\n",
    "\n",
    "Our object model mirrors the Open Microscopy Environment (OME) metadata model wherever possible.\n",
    "\n",
    "That means, a consistent dimension ordering and shape -- defined by metadata."
   ]
  },
  {
   "cell_type": "code",
   "execution_count": 2,
   "id": "2fcde21c-a08b-4ed3-8ad9-196eecd98fc2",
   "metadata": {
    "slideshow": {
     "slide_type": "slide"
    },
    "tags": []
   },
   "outputs": [
    {
     "data": {
      "text/html": [
       "<table>\n",
       "<tr>\n",
       "<td>\n",
       "<table>\n",
       "  <thead>\n",
       "    <tr><td> </td><th> Array </th><th> Chunk </th></tr>\n",
       "  </thead>\n",
       "  <tbody>\n",
       "    <tr><th> Bytes </th><td> 1.30 GiB </td> <td> 2.00 MiB </td></tr>\n",
       "    <tr><th> Shape </th><td> (666, 1024, 1024) </td> <td> (1, 1024, 1024) </td></tr>\n",
       "    <tr><th> Count </th><td> 1998 Tasks </td><td> 666 Chunks </td></tr>\n",
       "    <tr><th> Type </th><td> uint16 </td><td> numpy.ndarray </td></tr>\n",
       "  </tbody>\n",
       "</table>\n",
       "</td>\n",
       "<td>\n",
       "<svg width=\"225\" height=\"215\" style=\"stroke:rgb(0,0,0);stroke-width:1\" >\n",
       "\n",
       "  <!-- Horizontal lines -->\n",
       "  <line x1=\"10\" y1=\"0\" x2=\"55\" y2=\"45\" style=\"stroke-width:2\" />\n",
       "  <line x1=\"10\" y1=\"120\" x2=\"55\" y2=\"165\" style=\"stroke-width:2\" />\n",
       "\n",
       "  <!-- Vertical lines -->\n",
       "  <line x1=\"10\" y1=\"0\" x2=\"10\" y2=\"120\" style=\"stroke-width:2\" />\n",
       "  <line x1=\"12\" y1=\"2\" x2=\"12\" y2=\"122\" />\n",
       "  <line x1=\"14\" y1=\"4\" x2=\"14\" y2=\"124\" />\n",
       "  <line x1=\"17\" y1=\"7\" x2=\"17\" y2=\"127\" />\n",
       "  <line x1=\"19\" y1=\"9\" x2=\"19\" y2=\"129\" />\n",
       "  <line x1=\"22\" y1=\"12\" x2=\"22\" y2=\"132\" />\n",
       "  <line x1=\"24\" y1=\"14\" x2=\"24\" y2=\"134\" />\n",
       "  <line x1=\"26\" y1=\"16\" x2=\"26\" y2=\"136\" />\n",
       "  <line x1=\"29\" y1=\"19\" x2=\"29\" y2=\"139\" />\n",
       "  <line x1=\"31\" y1=\"21\" x2=\"31\" y2=\"141\" />\n",
       "  <line x1=\"34\" y1=\"24\" x2=\"34\" y2=\"144\" />\n",
       "  <line x1=\"36\" y1=\"26\" x2=\"36\" y2=\"146\" />\n",
       "  <line x1=\"38\" y1=\"28\" x2=\"38\" y2=\"148\" />\n",
       "  <line x1=\"41\" y1=\"31\" x2=\"41\" y2=\"151\" />\n",
       "  <line x1=\"43\" y1=\"33\" x2=\"43\" y2=\"153\" />\n",
       "  <line x1=\"46\" y1=\"36\" x2=\"46\" y2=\"156\" />\n",
       "  <line x1=\"48\" y1=\"38\" x2=\"48\" y2=\"158\" />\n",
       "  <line x1=\"51\" y1=\"41\" x2=\"51\" y2=\"161\" />\n",
       "  <line x1=\"53\" y1=\"43\" x2=\"53\" y2=\"163\" />\n",
       "  <line x1=\"55\" y1=\"45\" x2=\"55\" y2=\"165\" style=\"stroke-width:2\" />\n",
       "\n",
       "  <!-- Colored Rectangle -->\n",
       "  <polygon points=\"10.0,0.0 55.90992647058824,45.90992647058824 55.90992647058824,165.90992647058823 10.0,120.0\" style=\"fill:#8B4903A0;stroke-width:0\"/>\n",
       "\n",
       "  <!-- Horizontal lines -->\n",
       "  <line x1=\"10\" y1=\"0\" x2=\"130\" y2=\"0\" style=\"stroke-width:2\" />\n",
       "  <line x1=\"12\" y1=\"2\" x2=\"132\" y2=\"2\" />\n",
       "  <line x1=\"14\" y1=\"4\" x2=\"134\" y2=\"4\" />\n",
       "  <line x1=\"17\" y1=\"7\" x2=\"137\" y2=\"7\" />\n",
       "  <line x1=\"19\" y1=\"9\" x2=\"139\" y2=\"9\" />\n",
       "  <line x1=\"22\" y1=\"12\" x2=\"142\" y2=\"12\" />\n",
       "  <line x1=\"24\" y1=\"14\" x2=\"144\" y2=\"14\" />\n",
       "  <line x1=\"26\" y1=\"16\" x2=\"146\" y2=\"16\" />\n",
       "  <line x1=\"29\" y1=\"19\" x2=\"149\" y2=\"19\" />\n",
       "  <line x1=\"31\" y1=\"21\" x2=\"151\" y2=\"21\" />\n",
       "  <line x1=\"34\" y1=\"24\" x2=\"154\" y2=\"24\" />\n",
       "  <line x1=\"36\" y1=\"26\" x2=\"156\" y2=\"26\" />\n",
       "  <line x1=\"38\" y1=\"28\" x2=\"158\" y2=\"28\" />\n",
       "  <line x1=\"41\" y1=\"31\" x2=\"161\" y2=\"31\" />\n",
       "  <line x1=\"43\" y1=\"33\" x2=\"163\" y2=\"33\" />\n",
       "  <line x1=\"46\" y1=\"36\" x2=\"166\" y2=\"36\" />\n",
       "  <line x1=\"48\" y1=\"38\" x2=\"168\" y2=\"38\" />\n",
       "  <line x1=\"51\" y1=\"41\" x2=\"171\" y2=\"41\" />\n",
       "  <line x1=\"53\" y1=\"43\" x2=\"173\" y2=\"43\" />\n",
       "  <line x1=\"55\" y1=\"45\" x2=\"175\" y2=\"45\" style=\"stroke-width:2\" />\n",
       "\n",
       "  <!-- Vertical lines -->\n",
       "  <line x1=\"10\" y1=\"0\" x2=\"55\" y2=\"45\" style=\"stroke-width:2\" />\n",
       "  <line x1=\"130\" y1=\"0\" x2=\"175\" y2=\"45\" style=\"stroke-width:2\" />\n",
       "\n",
       "  <!-- Colored Rectangle -->\n",
       "  <polygon points=\"10.0,0.0 130.0,0.0 175.90992647058823,45.90992647058824 55.90992647058824,45.90992647058824\" style=\"fill:#8B4903A0;stroke-width:0\"/>\n",
       "\n",
       "  <!-- Horizontal lines -->\n",
       "  <line x1=\"55\" y1=\"45\" x2=\"175\" y2=\"45\" style=\"stroke-width:2\" />\n",
       "  <line x1=\"55\" y1=\"165\" x2=\"175\" y2=\"165\" style=\"stroke-width:2\" />\n",
       "\n",
       "  <!-- Vertical lines -->\n",
       "  <line x1=\"55\" y1=\"45\" x2=\"55\" y2=\"165\" style=\"stroke-width:2\" />\n",
       "  <line x1=\"175\" y1=\"45\" x2=\"175\" y2=\"165\" style=\"stroke-width:2\" />\n",
       "\n",
       "  <!-- Colored Rectangle -->\n",
       "  <polygon points=\"55.90992647058824,45.90992647058824 175.90992647058823,45.90992647058824 175.90992647058823,165.90992647058823 55.90992647058824,165.90992647058823\" style=\"fill:#ECB172A0;stroke-width:0\"/>\n",
       "\n",
       "  <!-- Text -->\n",
       "  <text x=\"115.909926\" y=\"185.909926\" font-size=\"1.0rem\" font-weight=\"100\" text-anchor=\"middle\" >1024</text>\n",
       "  <text x=\"195.909926\" y=\"105.909926\" font-size=\"1.0rem\" font-weight=\"100\" text-anchor=\"middle\" transform=\"rotate(-90,195.909926,105.909926)\">1024</text>\n",
       "  <text x=\"22.954963\" y=\"162.954963\" font-size=\"1.0rem\" font-weight=\"100\" text-anchor=\"middle\" transform=\"rotate(45,22.954963,162.954963)\">666</text>\n",
       "</svg>\n",
       "</td>\n",
       "</tr>\n",
       "</table>"
      ],
      "text/plain": [
       "dask.array<_map_read_frame, shape=(666, 1024, 1024), dtype=uint16, chunksize=(1, 1024, 1024), chunktype=numpy.ndarray>"
      ]
     },
     "execution_count": 2,
     "metadata": {},
     "output_type": "execute_result"
    }
   ],
   "source": [
    "from dask_image.imread import imread\n",
    "da_img = imread(\"../../aicsimageio/tests/resources/3d-cell-viewer.ome.tiff\")\n",
    "da_img"
   ]
  },
  {
   "cell_type": "code",
   "execution_count": 3,
   "id": "6e6a33f6-86a3-48e8-8630-3657dd0b2fcb",
   "metadata": {
    "slideshow": {
     "slide_type": "slide"
    },
    "tags": []
   },
   "outputs": [
    {
     "data": {
      "text/html": [
       "<table>\n",
       "<tr>\n",
       "<td>\n",
       "<table>\n",
       "  <thead>\n",
       "    <tr><td> </td><th> Array </th><th> Chunk </th></tr>\n",
       "  </thead>\n",
       "  <tbody>\n",
       "    <tr><th> Bytes </th><td> 1.30 GiB </td> <td> 148.00 MiB </td></tr>\n",
       "    <tr><th> Shape </th><td> (1, 9, 74, 1024, 1024) </td> <td> (1, 1, 74, 1024, 1024) </td></tr>\n",
       "    <tr><th> Count </th><td> 72 Tasks </td><td> 9 Chunks </td></tr>\n",
       "    <tr><th> Type </th><td> uint16 </td><td> numpy.ndarray </td></tr>\n",
       "  </tbody>\n",
       "</table>\n",
       "</td>\n",
       "<td>\n",
       "<svg width=\"381\" height=\"191\" style=\"stroke:rgb(0,0,0);stroke-width:1\" >\n",
       "\n",
       "  <!-- Horizontal lines -->\n",
       "  <line x1=\"0\" y1=\"0\" x2=\"25\" y2=\"0\" style=\"stroke-width:2\" />\n",
       "  <line x1=\"0\" y1=\"25\" x2=\"25\" y2=\"25\" style=\"stroke-width:2\" />\n",
       "\n",
       "  <!-- Vertical lines -->\n",
       "  <line x1=\"0\" y1=\"0\" x2=\"0\" y2=\"25\" style=\"stroke-width:2\" />\n",
       "  <line x1=\"2\" y1=\"0\" x2=\"2\" y2=\"25\" />\n",
       "  <line x1=\"5\" y1=\"0\" x2=\"5\" y2=\"25\" />\n",
       "  <line x1=\"8\" y1=\"0\" x2=\"8\" y2=\"25\" />\n",
       "  <line x1=\"11\" y1=\"0\" x2=\"11\" y2=\"25\" />\n",
       "  <line x1=\"14\" y1=\"0\" x2=\"14\" y2=\"25\" />\n",
       "  <line x1=\"16\" y1=\"0\" x2=\"16\" y2=\"25\" />\n",
       "  <line x1=\"19\" y1=\"0\" x2=\"19\" y2=\"25\" />\n",
       "  <line x1=\"22\" y1=\"0\" x2=\"22\" y2=\"25\" />\n",
       "  <line x1=\"25\" y1=\"0\" x2=\"25\" y2=\"25\" style=\"stroke-width:2\" />\n",
       "\n",
       "  <!-- Colored Rectangle -->\n",
       "  <polygon points=\"0.0,0.0 25.412616514582485,0.0 25.412616514582485,25.412616514582485 0.0,25.412616514582485\" style=\"fill:#ECB172A0;stroke-width:0\"/>\n",
       "\n",
       "  <!-- Text -->\n",
       "  <text x=\"12.706308\" y=\"45.412617\" font-size=\"1.0rem\" font-weight=\"100\" text-anchor=\"middle\" >9</text>\n",
       "  <text x=\"45.412617\" y=\"12.706308\" font-size=\"1.0rem\" font-weight=\"100\" text-anchor=\"middle\" transform=\"rotate(0,45.412617,12.706308)\">1</text>\n",
       "\n",
       "\n",
       "  <!-- Horizontal lines -->\n",
       "  <line x1=\"95\" y1=\"0\" x2=\"116\" y2=\"21\" style=\"stroke-width:2\" />\n",
       "  <line x1=\"95\" y1=\"120\" x2=\"116\" y2=\"141\" style=\"stroke-width:2\" />\n",
       "\n",
       "  <!-- Vertical lines -->\n",
       "  <line x1=\"95\" y1=\"0\" x2=\"95\" y2=\"120\" style=\"stroke-width:2\" />\n",
       "  <line x1=\"116\" y1=\"21\" x2=\"116\" y2=\"141\" style=\"stroke-width:2\" />\n",
       "\n",
       "  <!-- Colored Rectangle -->\n",
       "  <polygon points=\"95.0,0.0 116.60509915492166,21.60509915492166 116.60509915492166,141.60509915492167 95.0,120.0\" style=\"fill:#ECB172A0;stroke-width:0\"/>\n",
       "\n",
       "  <!-- Horizontal lines -->\n",
       "  <line x1=\"95\" y1=\"0\" x2=\"215\" y2=\"0\" style=\"stroke-width:2\" />\n",
       "  <line x1=\"116\" y1=\"21\" x2=\"236\" y2=\"21\" style=\"stroke-width:2\" />\n",
       "\n",
       "  <!-- Vertical lines -->\n",
       "  <line x1=\"95\" y1=\"0\" x2=\"116\" y2=\"21\" style=\"stroke-width:2\" />\n",
       "  <line x1=\"215\" y1=\"0\" x2=\"236\" y2=\"21\" style=\"stroke-width:2\" />\n",
       "\n",
       "  <!-- Colored Rectangle -->\n",
       "  <polygon points=\"95.0,0.0 215.0,0.0 236.60509915492167,21.60509915492166 116.60509915492166,21.60509915492166\" style=\"fill:#ECB172A0;stroke-width:0\"/>\n",
       "\n",
       "  <!-- Horizontal lines -->\n",
       "  <line x1=\"116\" y1=\"21\" x2=\"236\" y2=\"21\" style=\"stroke-width:2\" />\n",
       "  <line x1=\"116\" y1=\"141\" x2=\"236\" y2=\"141\" style=\"stroke-width:2\" />\n",
       "\n",
       "  <!-- Vertical lines -->\n",
       "  <line x1=\"116\" y1=\"21\" x2=\"116\" y2=\"141\" style=\"stroke-width:2\" />\n",
       "  <line x1=\"236\" y1=\"21\" x2=\"236\" y2=\"141\" style=\"stroke-width:2\" />\n",
       "\n",
       "  <!-- Colored Rectangle -->\n",
       "  <polygon points=\"116.60509915492166,21.60509915492166 236.60509915492167,21.60509915492166 236.60509915492167,141.60509915492167 116.60509915492166,141.60509915492167\" style=\"fill:#ECB172A0;stroke-width:0\"/>\n",
       "\n",
       "  <!-- Text -->\n",
       "  <text x=\"176.605099\" y=\"161.605099\" font-size=\"1.0rem\" font-weight=\"100\" text-anchor=\"middle\" >1024</text>\n",
       "  <text x=\"256.605099\" y=\"81.605099\" font-size=\"1.0rem\" font-weight=\"100\" text-anchor=\"middle\" transform=\"rotate(-90,256.605099,81.605099)\">1024</text>\n",
       "  <text x=\"95.802550\" y=\"150.802550\" font-size=\"1.0rem\" font-weight=\"100\" text-anchor=\"middle\" transform=\"rotate(45,95.802550,150.802550)\">74</text>\n",
       "</svg>\n",
       "</td>\n",
       "</tr>\n",
       "</table>"
      ],
      "text/plain": [
       "dask.array<transpose, shape=(1, 9, 74, 1024, 1024), dtype=uint16, chunksize=(1, 1, 74, 1024, 1024), chunktype=numpy.ndarray>"
      ]
     },
     "execution_count": 3,
     "metadata": {},
     "output_type": "execute_result"
    }
   ],
   "source": [
    "from aicsimageio import AICSImage\n",
    "aics_img = AICSImage(\"../../aicsimageio/tests/resources/3d-cell-viewer.ome.tiff\")\n",
    "aics_img.dask_data"
   ]
  },
  {
   "cell_type": "markdown",
   "id": "7b0c8ca9-61c5-485d-b684-dbe4376f96d7",
   "metadata": {
    "slideshow": {
     "slide_type": "slide"
    },
    "tags": []
   },
   "source": [
    "It also means that our image container is more than simply the array of voxels.\n",
    "\n",
    "We provide easy access to dimension information, common pieces of metadata (or full access to metadata), writing / conversion, and more..."
   ]
  },
  {
   "cell_type": "code",
   "execution_count": 4,
   "id": "b9082bb7-7c18-42ff-849b-b0c24ceb07ec",
   "metadata": {
    "slideshow": {
     "slide_type": "slide"
    },
    "tags": []
   },
   "outputs": [
    {
     "data": {
      "text/plain": [
       "<Dimensions [T: 1, C: 9, Z: 74, Y: 1024, X: 1024]>"
      ]
     },
     "execution_count": 4,
     "metadata": {},
     "output_type": "execute_result"
    }
   ],
   "source": [
    "aics_img.dims"
   ]
  },
  {
   "cell_type": "code",
   "execution_count": 5,
   "id": "1e34765d-adb5-40c8-93a1-f7de8de4574a",
   "metadata": {},
   "outputs": [
    {
     "data": {
      "text/plain": [
       "['DRAQ5',\n",
       " 'EGFP',\n",
       " 'Hoechst 33258',\n",
       " 'TL Brightfield',\n",
       " 'SEG_STRUCT',\n",
       " 'SEG_Memb',\n",
       " 'SEG_DNA',\n",
       " 'CON_Memb',\n",
       " 'CON_DNA']"
      ]
     },
     "execution_count": 5,
     "metadata": {},
     "output_type": "execute_result"
    }
   ],
   "source": [
    "aics_img.channel_names"
   ]
  },
  {
   "cell_type": "code",
   "execution_count": 6,
   "id": "74443421-8ff2-473c-be08-fcbe7a012f92",
   "metadata": {},
   "outputs": [
    {
     "data": {
      "text/plain": [
       "OME(\n",
       "   experimenters=[<1 Experimenters>],\n",
       "   images=[<1 Images>],\n",
       "   instruments=[<1 Instruments>],\n",
       "   uuid='urn:uuid:82cf0bcd-7e49-4cb1-b042-bd0aaa0b0590',\n",
       ")"
      ]
     },
     "execution_count": 6,
     "metadata": {},
     "output_type": "execute_result"
    }
   ],
   "source": [
    "aics_img.metadata"
   ]
  },
  {
   "cell_type": "markdown",
   "id": "8102ba47-87a1-4bbd-a400-a218dd982737",
   "metadata": {
    "slideshow": {
     "slide_type": "slide"
    },
    "tags": []
   },
   "source": [
    "... and crucially we can read multi-scene!"
   ]
  },
  {
   "cell_type": "code",
   "execution_count": 7,
   "id": "82ce33be-c071-4b5a-8836-5d20c6a93666",
   "metadata": {
    "tags": []
   },
   "outputs": [
    {
     "data": {
      "text/plain": [
       "(15, 325, 475)"
      ]
     },
     "execution_count": 7,
     "metadata": {},
     "output_type": "execute_result"
    }
   ],
   "source": [
    "# dask-image\n",
    "imread(\"../../aicsimageio/tests/resources/s_3_t_1_c_3_z_5.ome.tiff\").shape"
   ]
  },
  {
   "cell_type": "code",
   "execution_count": 8,
   "id": "8ac387b3-74e1-45fd-8809-4d836539d545",
   "metadata": {},
   "outputs": [
    {
     "data": {
      "text/plain": [
       "<Dimensions [T: 1, C: 3, Z: 5, Y: 325, X: 475]>"
      ]
     },
     "execution_count": 8,
     "metadata": {},
     "output_type": "execute_result"
    }
   ],
   "source": [
    "# aicsimageio\n",
    "many_scene = AICSImage(\"../../aicsimageio/tests/resources/s_3_t_1_c_3_z_5.ome.tiff\")\n",
    "many_scene.dims"
   ]
  },
  {
   "cell_type": "code",
   "execution_count": 9,
   "id": "babe3afe-4122-4006-a505-6bf40b3774e0",
   "metadata": {},
   "outputs": [
    {
     "data": {
      "text/plain": [
       "('Image:0', 'Image:1', 'Image:2')"
      ]
     },
     "execution_count": 9,
     "metadata": {},
     "output_type": "execute_result"
    }
   ],
   "source": [
    "many_scene.scenes"
   ]
  },
  {
   "cell_type": "code",
   "execution_count": 10,
   "id": "804b19bf-374f-49c4-a10b-26813d0ed967",
   "metadata": {},
   "outputs": [],
   "source": [
    "many_scene.set_scene(\"Image:1\")"
   ]
  },
  {
   "cell_type": "markdown",
   "id": "a25fec7f-15eb-4888-9b87-a9f20741f4b3",
   "metadata": {
    "slideshow": {
     "slide_type": "slide"
    },
    "tags": []
   },
   "source": [
    "## Issues with Image Processing\n",
    "\n",
    "As files become larger and larger, object models that _encourage_ metadata utilization are critical to reducing processing times."
   ]
  },
  {
   "cell_type": "code",
   "execution_count": 11,
   "id": "1b873a5a-5bba-46e4-a4d8-24f33c0bc34e",
   "metadata": {
    "slideshow": {
     "slide_type": "skip"
    },
    "tags": []
   },
   "outputs": [],
   "source": [
    "import dask.array as da\n",
    "\n",
    "def norm_and_proj_channel(data):\n",
    "    # Get percentile norm by values\n",
    "    min_px_val, max_px_val = da.percentile(\n",
    "        data.flatten(),\n",
    "        [50.0, 99.8],\n",
    "    ).compute()\n",
    "\n",
    "    # Norm\n",
    "    normed = (data - min_px_val) / (max_px_val - min_px_val)\n",
    "\n",
    "    # Clip any values outside of 0 and 1\n",
    "    clipped = da.clip(normed, 0, 1)\n",
    "\n",
    "    # Scale them between 0 and 255\n",
    "    scaled = clipped * 255\n",
    "\n",
    "    # Create max project\n",
    "    return scaled.max(axis=0)"
   ]
  },
  {
   "cell_type": "code",
   "execution_count": 12,
   "id": "432fdad0-04c4-483e-ae27-1f179dc1c00a",
   "metadata": {
    "slideshow": {
     "slide_type": "skip"
    },
    "tags": []
   },
   "outputs": [
    {
     "data": {
      "text/plain": [
       "<Figure size 432x288 with 0 Axes>"
      ]
     },
     "metadata": {},
     "output_type": "display_data"
    }
   ],
   "source": [
    "from matplotlib.pyplot import imshow, set_cmap\n",
    "set_cmap(\"inferno\")"
   ]
  },
  {
   "cell_type": "markdown",
   "id": "a006a895-643b-49cd-a947-b26b633045e5",
   "metadata": {
    "slideshow": {
     "slide_type": "slide"
    },
    "tags": []
   },
   "source": [
    "## Time Comparison with Naive Reshape"
   ]
  },
  {
   "cell_type": "code",
   "execution_count": 13,
   "id": "0dc6534c-3aec-4932-ab7f-29052928b8c0",
   "metadata": {},
   "outputs": [],
   "source": [
    "da_img = imread(\"../../aicsimageio/tests/resources/3d-cell-viewer.ome.tiff\")\n",
    "da_img = da_img.reshape(74, 9, 1024, 1024)\n",
    "\n",
    "aics_img = AICSImage(\"../../aicsimageio/tests/resources/3d-cell-viewer.ome.tiff\")"
   ]
  },
  {
   "cell_type": "markdown",
   "id": "bb81c395-4d04-488b-bc7a-0bb78e396a18",
   "metadata": {
    "slideshow": {
     "slide_type": "slide"
    },
    "tags": []
   },
   "source": [
    "Normalize a specific channel and generate a max projection.\n",
    "\n",
    "Notice, the obvious time difference, but also the API difference.\n",
    "\n",
    "Metadata utilization throughout!"
   ]
  },
  {
   "cell_type": "code",
   "execution_count": 14,
   "id": "4b6683f1-77ce-4057-9490-770b5b357d92",
   "metadata": {},
   "outputs": [
    {
     "name": "stdout",
     "output_type": "stream",
     "text": [
      "1min 35s ± 1 s per loop (mean ± std. dev. of 7 runs, 1 loop each)\n"
     ]
    }
   ],
   "source": [
    "%%timeit\n",
    "da_channel = da_img[:, 2]\n",
    "da_proj = norm_and_proj_channel(da_channel).compute()"
   ]
  },
  {
   "cell_type": "code",
   "execution_count": 15,
   "id": "1a51505b-5b9d-435a-9b69-db68d6b47df6",
   "metadata": {},
   "outputs": [
    {
     "name": "stdout",
     "output_type": "stream",
     "text": [
      "1.79 s ± 135 ms per loop (mean ± std. dev. of 7 runs, 1 loop each)\n"
     ]
    }
   ],
   "source": [
    "%%timeit\n",
    "aics_channel = aics_img.get_image_dask_data(\n",
    "    \"ZYX\",\n",
    "    C=aics_img.channel_names.index(\"Hoechst 33258\")\n",
    ")\n",
    "aics_proj = norm_and_proj_channel(aics_channel).compute()"
   ]
  },
  {
   "cell_type": "code",
   "execution_count": 17,
   "id": "b271ec50-4709-4316-9295-84930b370a92",
   "metadata": {
    "slideshow": {
     "slide_type": "slide"
    },
    "tags": []
   },
   "outputs": [
    {
     "data": {
      "text/plain": [
       "<matplotlib.image.AxesImage at 0x7f41d80c6580>"
      ]
     },
     "execution_count": 17,
     "metadata": {},
     "output_type": "execute_result"
    },
    {
     "data": {
      "image/png": "[encoded data removed]",
      "text/plain": [
       "<Figure size 432x288 with 1 Axes>"
      ]
     },
     "metadata": {
      "needs_background": "light"
     },
     "output_type": "display_data"
    }
   ],
   "source": [
    "aics_channel = aics_img.get_image_dask_data(\n",
    "    \"ZYX\",\n",
    "    C=aics_img.channel_names.index(\"Hoechst 33258\")\n",
    ")\n",
    "aics_proj = norm_and_proj_channel(aics_channel).compute()\n",
    "imshow(aics_proj)"
   ]
  },
  {
   "cell_type": "markdown",
   "id": "96ee547a-2552-4274-8642-6d3f3209de16",
   "metadata": {
    "slideshow": {
     "slide_type": "slide"
    },
    "tags": []
   },
   "source": [
    "## What About Rechunking\n",
    "\n",
    "We already had to reshape, rechunking is just yet another step.\n",
    "\n",
    "Our job is to make it easier, and _faster_, for the scientist to get their work done."
   ]
  },
  {
   "cell_type": "markdown",
   "id": "88929e54-95e1-4b9a-b0d4-26800b7fb6e8",
   "metadata": {
    "slideshow": {
     "slide_type": "slide"
    },
    "tags": []
   },
   "source": [
    "## Chunking by Dimension\n",
    "\n",
    "`AICSImage` defaults to chunking with the ZYX dimensions, but this is simply a parameter:"
   ]
  },
  {
   "cell_type": "code",
   "execution_count": 18,
   "id": "03f99b93-832d-4b5d-b1ae-d02a207ddcda",
   "metadata": {},
   "outputs": [
    {
     "name": "stderr",
     "output_type": "stream",
     "text": [
      "[WARNING: ome_tiff_reader: 137 2021-05-10 23:35:11,999] Multi-image (or scene) OME-TIFFs created by MicroManager have limited support for scene API. It is recommended to use independent AICSImage or Reader objects for each file instead of the `set_scene` API. Track progress on support here: https://github.com/AllenCellModeling/aicsimageio/issues/196\n"
     ]
    },
    {
     "data": {
      "text/html": [
       "<table>\n",
       "<tr>\n",
       "<td>\n",
       "<table>\n",
       "  <thead>\n",
       "    <tr><td> </td><th> Array </th><th> Chunk </th></tr>\n",
       "  </thead>\n",
       "  <tbody>\n",
       "    <tr><th> Bytes </th><td> 93.75 MiB </td> <td> 6.25 MiB </td></tr>\n",
       "    <tr><th> Shape </th><td> (50, 3, 5, 256, 256) </td> <td> (50, 1, 1, 256, 256) </td></tr>\n",
       "    <tr><th> Count </th><td> 120 Tasks </td><td> 15 Chunks </td></tr>\n",
       "    <tr><th> Type </th><td> uint16 </td><td> numpy.ndarray </td></tr>\n",
       "  </tbody>\n",
       "</table>\n",
       "</td>\n",
       "<td>\n",
       "<svg width=\"378\" height=\"186\" style=\"stroke:rgb(0,0,0);stroke-width:1\" >\n",
       "\n",
       "  <!-- Horizontal lines -->\n",
       "  <line x1=\"0\" y1=\"0\" x2=\"26\" y2=\"0\" style=\"stroke-width:2\" />\n",
       "  <line x1=\"0\" y1=\"41\" x2=\"26\" y2=\"41\" style=\"stroke-width:2\" />\n",
       "\n",
       "  <!-- Vertical lines -->\n",
       "  <line x1=\"0\" y1=\"0\" x2=\"0\" y2=\"41\" style=\"stroke-width:2\" />\n",
       "  <line x1=\"8\" y1=\"0\" x2=\"8\" y2=\"41\" />\n",
       "  <line x1=\"17\" y1=\"0\" x2=\"17\" y2=\"41\" />\n",
       "  <line x1=\"26\" y1=\"0\" x2=\"26\" y2=\"41\" style=\"stroke-width:2\" />\n",
       "\n",
       "  <!-- Colored Rectangle -->\n",
       "  <polygon points=\"0.0,0.0 26.188049901537102,0.0 26.188049901537102,41.909054003111166 0.0,41.909054003111166\" style=\"fill:#ECB172A0;stroke-width:0\"/>\n",
       "\n",
       "  <!-- Text -->\n",
       "  <text x=\"13.094025\" y=\"61.909054\" font-size=\"1.0rem\" font-weight=\"100\" text-anchor=\"middle\" >3</text>\n",
       "  <text x=\"46.188050\" y=\"20.954527\" font-size=\"1.0rem\" font-weight=\"100\" text-anchor=\"middle\" transform=\"rotate(0,46.188050,20.954527)\">50</text>\n",
       "\n",
       "\n",
       "  <!-- Horizontal lines -->\n",
       "  <line x1=\"96\" y1=\"0\" x2=\"112\" y2=\"16\" style=\"stroke-width:2\" />\n",
       "  <line x1=\"96\" y1=\"120\" x2=\"112\" y2=\"136\" style=\"stroke-width:2\" />\n",
       "\n",
       "  <!-- Vertical lines -->\n",
       "  <line x1=\"96\" y1=\"0\" x2=\"96\" y2=\"120\" style=\"stroke-width:2\" />\n",
       "  <line x1=\"99\" y1=\"3\" x2=\"99\" y2=\"123\" />\n",
       "  <line x1=\"102\" y1=\"6\" x2=\"102\" y2=\"126\" />\n",
       "  <line x1=\"106\" y1=\"10\" x2=\"106\" y2=\"130\" />\n",
       "  <line x1=\"109\" y1=\"13\" x2=\"109\" y2=\"133\" />\n",
       "  <line x1=\"112\" y1=\"16\" x2=\"112\" y2=\"136\" style=\"stroke-width:2\" />\n",
       "\n",
       "  <!-- Colored Rectangle -->\n",
       "  <polygon points=\"96.0,0.0 112.99850848103011,16.998508481030107 112.99850848103011,136.99850848103011 96.0,120.0\" style=\"fill:#ECB172A0;stroke-width:0\"/>\n",
       "\n",
       "  <!-- Horizontal lines -->\n",
       "  <line x1=\"96\" y1=\"0\" x2=\"216\" y2=\"0\" style=\"stroke-width:2\" />\n",
       "  <line x1=\"99\" y1=\"3\" x2=\"219\" y2=\"3\" />\n",
       "  <line x1=\"102\" y1=\"6\" x2=\"222\" y2=\"6\" />\n",
       "  <line x1=\"106\" y1=\"10\" x2=\"226\" y2=\"10\" />\n",
       "  <line x1=\"109\" y1=\"13\" x2=\"229\" y2=\"13\" />\n",
       "  <line x1=\"112\" y1=\"16\" x2=\"232\" y2=\"16\" style=\"stroke-width:2\" />\n",
       "\n",
       "  <!-- Vertical lines -->\n",
       "  <line x1=\"96\" y1=\"0\" x2=\"112\" y2=\"16\" style=\"stroke-width:2\" />\n",
       "  <line x1=\"216\" y1=\"0\" x2=\"232\" y2=\"16\" style=\"stroke-width:2\" />\n",
       "\n",
       "  <!-- Colored Rectangle -->\n",
       "  <polygon points=\"96.0,0.0 216.0,0.0 232.99850848103011,16.998508481030107 112.99850848103011,16.998508481030107\" style=\"fill:#ECB172A0;stroke-width:0\"/>\n",
       "\n",
       "  <!-- Horizontal lines -->\n",
       "  <line x1=\"112\" y1=\"16\" x2=\"232\" y2=\"16\" style=\"stroke-width:2\" />\n",
       "  <line x1=\"112\" y1=\"136\" x2=\"232\" y2=\"136\" style=\"stroke-width:2\" />\n",
       "\n",
       "  <!-- Vertical lines -->\n",
       "  <line x1=\"112\" y1=\"16\" x2=\"112\" y2=\"136\" style=\"stroke-width:2\" />\n",
       "  <line x1=\"232\" y1=\"16\" x2=\"232\" y2=\"136\" style=\"stroke-width:2\" />\n",
       "\n",
       "  <!-- Colored Rectangle -->\n",
       "  <polygon points=\"112.99850848103011,16.998508481030107 232.99850848103011,16.998508481030107 232.99850848103011,136.99850848103011 112.99850848103011,136.99850848103011\" style=\"fill:#ECB172A0;stroke-width:0\"/>\n",
       "\n",
       "  <!-- Text -->\n",
       "  <text x=\"172.998508\" y=\"156.998508\" font-size=\"1.0rem\" font-weight=\"100\" text-anchor=\"middle\" >256</text>\n",
       "  <text x=\"252.998508\" y=\"76.998508\" font-size=\"1.0rem\" font-weight=\"100\" text-anchor=\"middle\" transform=\"rotate(-90,252.998508,76.998508)\">256</text>\n",
       "  <text x=\"94.499254\" y=\"148.499254\" font-size=\"1.0rem\" font-weight=\"100\" text-anchor=\"middle\" transform=\"rotate(45,94.499254,148.499254)\">5</text>\n",
       "</svg>\n",
       "</td>\n",
       "</tr>\n",
       "</table>"
      ],
      "text/plain": [
       "dask.array<transpose, shape=(50, 3, 5, 256, 256), dtype=uint16, chunksize=(50, 1, 1, 256, 256), chunktype=numpy.ndarray>"
      ]
     },
     "execution_count": 18,
     "metadata": {},
     "output_type": "execute_result"
    }
   ],
   "source": [
    "AICSImage(\n",
    "    \"../../aicsimageio/tests/resources/image_stack_tpzc_50tp_2p_5z_3c_512k_1_MMStack_2-Pos000_000.ome.tif\",\n",
    "    chunk_dims=\"TYX\",\n",
    ").dask_data"
   ]
  },
  {
   "cell_type": "markdown",
   "id": "1880803f-d549-45aa-93b2-d21287de12cc",
   "metadata": {
    "slideshow": {
     "slide_type": "slide"
    },
    "tags": []
   },
   "source": [
    "## What's New and Where We Are Going\n",
    "\n",
    "4.0 is just around the corner and it's the perfect time to get involved!\n",
    "\n",
    "(In fact, it may be out by the time you watch this video)"
   ]
  },
  {
   "cell_type": "markdown",
   "id": "75166521-7ae0-4e61-8edb-fd25da609f75",
   "metadata": {
    "slideshow": {
     "slide_type": "slide"
    },
    "tags": []
   },
   "source": [
    "### New Features\n",
    "✅ Mosaic Tile Stitching"
   ]
  },
  {
   "cell_type": "code",
   "execution_count": 19,
   "id": "f6824e0e-1126-498a-8859-c240241b67b4",
   "metadata": {},
   "outputs": [
    {
     "data": {
      "text/html": [
       "<table>\n",
       "<tr>\n",
       "<td>\n",
       "<table>\n",
       "  <thead>\n",
       "    <tr><td> </td><th> Array </th><th> Chunk </th></tr>\n",
       "  </thead>\n",
       "  <tbody>\n",
       "    <tr><th> Bytes </th><td> 164.41 MiB </td> <td> 256.00 kiB </td></tr>\n",
       "    <tr><th> Shape </th><td> (1, 4, 1, 5622, 7666) </td> <td> (1, 1, 1, 512, 512) </td></tr>\n",
       "    <tr><th> Count </th><td> 8476 Tasks </td><td> 660 Chunks </td></tr>\n",
       "    <tr><th> Type </th><td> uint8 </td><td> numpy.ndarray </td></tr>\n",
       "  </tbody>\n",
       "</table>\n",
       "</td>\n",
       "<td>\n",
       "<svg width=\"374\" height=\"152\" style=\"stroke:rgb(0,0,0);stroke-width:1\" >\n",
       "\n",
       "  <!-- Horizontal lines -->\n",
       "  <line x1=\"0\" y1=\"0\" x2=\"25\" y2=\"0\" style=\"stroke-width:2\" />\n",
       "  <line x1=\"0\" y1=\"25\" x2=\"25\" y2=\"25\" style=\"stroke-width:2\" />\n",
       "\n",
       "  <!-- Vertical lines -->\n",
       "  <line x1=\"0\" y1=\"0\" x2=\"0\" y2=\"25\" style=\"stroke-width:2\" />\n",
       "  <line x1=\"6\" y1=\"0\" x2=\"6\" y2=\"25\" />\n",
       "  <line x1=\"12\" y1=\"0\" x2=\"12\" y2=\"25\" />\n",
       "  <line x1=\"19\" y1=\"0\" x2=\"19\" y2=\"25\" />\n",
       "  <line x1=\"25\" y1=\"0\" x2=\"25\" y2=\"25\" style=\"stroke-width:2\" />\n",
       "\n",
       "  <!-- Colored Rectangle -->\n",
       "  <polygon points=\"0.0,0.0 25.412616514582485,0.0 25.412616514582485,25.412616514582485 0.0,25.412616514582485\" style=\"fill:#ECB172A0;stroke-width:0\"/>\n",
       "\n",
       "  <!-- Text -->\n",
       "  <text x=\"12.706308\" y=\"45.412617\" font-size=\"1.0rem\" font-weight=\"100\" text-anchor=\"middle\" >4</text>\n",
       "  <text x=\"45.412617\" y=\"12.706308\" font-size=\"1.0rem\" font-weight=\"100\" text-anchor=\"middle\" transform=\"rotate(0,45.412617,12.706308)\">1</text>\n",
       "\n",
       "\n",
       "  <!-- Horizontal lines -->\n",
       "  <line x1=\"95\" y1=\"0\" x2=\"109\" y2=\"14\" style=\"stroke-width:2\" />\n",
       "  <line x1=\"95\" y1=\"8\" x2=\"109\" y2=\"22\" />\n",
       "  <line x1=\"95\" y1=\"16\" x2=\"109\" y2=\"30\" />\n",
       "  <line x1=\"95\" y1=\"24\" x2=\"109\" y2=\"38\" />\n",
       "  <line x1=\"95\" y1=\"32\" x2=\"109\" y2=\"46\" />\n",
       "  <line x1=\"95\" y1=\"40\" x2=\"109\" y2=\"54\" />\n",
       "  <line x1=\"95\" y1=\"48\" x2=\"109\" y2=\"62\" />\n",
       "  <line x1=\"95\" y1=\"56\" x2=\"109\" y2=\"70\" />\n",
       "  <line x1=\"95\" y1=\"64\" x2=\"109\" y2=\"78\" />\n",
       "  <line x1=\"95\" y1=\"72\" x2=\"109\" y2=\"86\" />\n",
       "  <line x1=\"95\" y1=\"80\" x2=\"109\" y2=\"94\" />\n",
       "  <line x1=\"95\" y1=\"88\" x2=\"109\" y2=\"102\" style=\"stroke-width:2\" />\n",
       "\n",
       "  <!-- Vertical lines -->\n",
       "  <line x1=\"95\" y1=\"0\" x2=\"95\" y2=\"88\" style=\"stroke-width:2\" />\n",
       "  <line x1=\"109\" y1=\"14\" x2=\"109\" y2=\"102\" style=\"stroke-width:2\" />\n",
       "\n",
       "  <!-- Colored Rectangle -->\n",
       "  <polygon points=\"95.0,0.0 109.9485979497544,14.948597949754403 109.9485979497544,102.9527722257784 95.0,88.004174276024\" style=\"fill:#ECB172A0;stroke-width:0\"/>\n",
       "\n",
       "  <!-- Horizontal lines -->\n",
       "  <line x1=\"95\" y1=\"0\" x2=\"215\" y2=\"0\" style=\"stroke-width:2\" />\n",
       "  <line x1=\"109\" y1=\"14\" x2=\"229\" y2=\"14\" style=\"stroke-width:2\" />\n",
       "\n",
       "  <!-- Vertical lines -->\n",
       "  <line x1=\"95\" y1=\"0\" x2=\"109\" y2=\"14\" style=\"stroke-width:2\" />\n",
       "  <line x1=\"103\" y1=\"0\" x2=\"117\" y2=\"14\" />\n",
       "  <line x1=\"111\" y1=\"0\" x2=\"125\" y2=\"14\" />\n",
       "  <line x1=\"119\" y1=\"0\" x2=\"133\" y2=\"14\" />\n",
       "  <line x1=\"127\" y1=\"0\" x2=\"141\" y2=\"14\" />\n",
       "  <line x1=\"135\" y1=\"0\" x2=\"149\" y2=\"14\" />\n",
       "  <line x1=\"143\" y1=\"0\" x2=\"157\" y2=\"14\" />\n",
       "  <line x1=\"151\" y1=\"0\" x2=\"165\" y2=\"14\" />\n",
       "  <line x1=\"159\" y1=\"0\" x2=\"173\" y2=\"14\" />\n",
       "  <line x1=\"167\" y1=\"0\" x2=\"181\" y2=\"14\" />\n",
       "  <line x1=\"175\" y1=\"0\" x2=\"189\" y2=\"14\" />\n",
       "  <line x1=\"183\" y1=\"0\" x2=\"197\" y2=\"14\" />\n",
       "  <line x1=\"191\" y1=\"0\" x2=\"205\" y2=\"14\" />\n",
       "  <line x1=\"199\" y1=\"0\" x2=\"213\" y2=\"14\" />\n",
       "  <line x1=\"207\" y1=\"0\" x2=\"221\" y2=\"14\" />\n",
       "  <line x1=\"215\" y1=\"0\" x2=\"229\" y2=\"14\" style=\"stroke-width:2\" />\n",
       "\n",
       "  <!-- Colored Rectangle -->\n",
       "  <polygon points=\"95.0,0.0 215.0,0.0 229.9485979497544,14.948597949754403 109.9485979497544,14.948597949754403\" style=\"fill:#ECB172A0;stroke-width:0\"/>\n",
       "\n",
       "  <!-- Horizontal lines -->\n",
       "  <line x1=\"109\" y1=\"14\" x2=\"229\" y2=\"14\" style=\"stroke-width:2\" />\n",
       "  <line x1=\"109\" y1=\"22\" x2=\"229\" y2=\"22\" />\n",
       "  <line x1=\"109\" y1=\"30\" x2=\"229\" y2=\"30\" />\n",
       "  <line x1=\"109\" y1=\"38\" x2=\"229\" y2=\"38\" />\n",
       "  <line x1=\"109\" y1=\"46\" x2=\"229\" y2=\"46\" />\n",
       "  <line x1=\"109\" y1=\"54\" x2=\"229\" y2=\"54\" />\n",
       "  <line x1=\"109\" y1=\"62\" x2=\"229\" y2=\"62\" />\n",
       "  <line x1=\"109\" y1=\"70\" x2=\"229\" y2=\"70\" />\n",
       "  <line x1=\"109\" y1=\"78\" x2=\"229\" y2=\"78\" />\n",
       "  <line x1=\"109\" y1=\"86\" x2=\"229\" y2=\"86\" />\n",
       "  <line x1=\"109\" y1=\"94\" x2=\"229\" y2=\"94\" />\n",
       "  <line x1=\"109\" y1=\"102\" x2=\"229\" y2=\"102\" style=\"stroke-width:2\" />\n",
       "\n",
       "  <!-- Vertical lines -->\n",
       "  <line x1=\"109\" y1=\"14\" x2=\"109\" y2=\"102\" style=\"stroke-width:2\" />\n",
       "  <line x1=\"117\" y1=\"14\" x2=\"117\" y2=\"102\" />\n",
       "  <line x1=\"125\" y1=\"14\" x2=\"125\" y2=\"102\" />\n",
       "  <line x1=\"133\" y1=\"14\" x2=\"133\" y2=\"102\" />\n",
       "  <line x1=\"141\" y1=\"14\" x2=\"141\" y2=\"102\" />\n",
       "  <line x1=\"149\" y1=\"14\" x2=\"149\" y2=\"102\" />\n",
       "  <line x1=\"157\" y1=\"14\" x2=\"157\" y2=\"102\" />\n",
       "  <line x1=\"165\" y1=\"14\" x2=\"165\" y2=\"102\" />\n",
       "  <line x1=\"173\" y1=\"14\" x2=\"173\" y2=\"102\" />\n",
       "  <line x1=\"181\" y1=\"14\" x2=\"181\" y2=\"102\" />\n",
       "  <line x1=\"189\" y1=\"14\" x2=\"189\" y2=\"102\" />\n",
       "  <line x1=\"197\" y1=\"14\" x2=\"197\" y2=\"102\" />\n",
       "  <line x1=\"205\" y1=\"14\" x2=\"205\" y2=\"102\" />\n",
       "  <line x1=\"213\" y1=\"14\" x2=\"213\" y2=\"102\" />\n",
       "  <line x1=\"221\" y1=\"14\" x2=\"221\" y2=\"102\" />\n",
       "  <line x1=\"229\" y1=\"14\" x2=\"229\" y2=\"102\" style=\"stroke-width:2\" />\n",
       "\n",
       "  <!-- Colored Rectangle -->\n",
       "  <polygon points=\"109.9485979497544,14.948597949754403 229.9485979497544,14.948597949754403 229.9485979497544,102.9527722257784 109.9485979497544,102.9527722257784\" style=\"fill:#ECB172A0;stroke-width:0\"/>\n",
       "\n",
       "  <!-- Text -->\n",
       "  <text x=\"169.948598\" y=\"122.952772\" font-size=\"1.0rem\" font-weight=\"100\" text-anchor=\"middle\" >7666</text>\n",
       "  <text x=\"249.948598\" y=\"58.950685\" font-size=\"1.0rem\" font-weight=\"100\" text-anchor=\"middle\" transform=\"rotate(-90,249.948598,58.950685)\">5622</text>\n",
       "  <text x=\"92.474299\" y=\"115.478473\" font-size=\"1.0rem\" font-weight=\"100\" text-anchor=\"middle\" transform=\"rotate(45,92.474299,115.478473)\">1</text>\n",
       "</svg>\n",
       "</td>\n",
       "</tr>\n",
       "</table>"
      ],
      "text/plain": [
       "dask.array<transpose, shape=(1, 4, 1, 5622, 7666), dtype=uint8, chunksize=(1, 1, 1, 512, 512), chunktype=numpy.ndarray>"
      ]
     },
     "execution_count": 19,
     "metadata": {},
     "output_type": "execute_result"
    }
   ],
   "source": [
    "tiled = AICSImage(\"../../aicsimageio/tests/resources/tiled.lif\")\n",
    "tiled.dask_data"
   ]
  },
  {
   "cell_type": "markdown",
   "id": "41cf5ba6-a631-45f6-8ce5-a5f2fed6ad91",
   "metadata": {
    "slideshow": {
     "slide_type": "slide"
    },
    "tags": []
   },
   "source": [
    "### New Features\n",
    "✅ XArray Adopted"
   ]
  },
  {
   "cell_type": "code",
   "execution_count": 20,
   "id": "8c051f00-bf59-4fea-881a-de34f624f89f",
   "metadata": {},
   "outputs": [
    {
     "data": {
      "text/html": [
       "<div><svg style=\"position: absolute; width: 0; height: 0; overflow: hidden\">\n",
       "<defs>\n",
       "<symbol id=\"icon-database\" viewBox=\"0 0 32 32\">\n",
       "<path d=\"M16 0c-8.837 0-16 2.239-16 5v4c0 2.761 7.163 5 16 5s16-2.239 16-5v-4c0-2.761-7.163-5-16-5z\"></path>\n",
       "<path d=\"M16 17c-8.837 0-16-2.239-16-5v6c0 2.761 7.163 5 16 5s16-2.239 16-5v-6c0 2.761-7.163 5-16 5z\"></path>\n",
       "<path d=\"M16 26c-8.837 0-16-2.239-16-5v6c0 2.761 7.163 5 16 5s16-2.239 16-5v-6c0 2.761-7.163 5-16 5z\"></path>\n",
       "</symbol>\n",
       "<symbol id=\"icon-file-text2\" viewBox=\"0 0 32 32\">\n",
       "<path d=\"M28.681 7.159c-0.694-0.947-1.662-2.053-2.724-3.116s-2.169-2.030-3.116-2.724c-1.612-1.182-2.393-1.319-2.841-1.319h-15.5c-1.378 0-2.5 1.121-2.5 2.5v27c0 1.378 1.122 2.5 2.5 2.5h23c1.378 0 2.5-1.122 2.5-2.5v-19.5c0-0.448-0.137-1.23-1.319-2.841zM24.543 5.457c0.959 0.959 1.712 1.825 2.268 2.543h-4.811v-4.811c0.718 0.556 1.584 1.309 2.543 2.268zM28 29.5c0 0.271-0.229 0.5-0.5 0.5h-23c-0.271 0-0.5-0.229-0.5-0.5v-27c0-0.271 0.229-0.5 0.5-0.5 0 0 15.499-0 15.5 0v7c0 0.552 0.448 1 1 1h7v19.5z\"></path>\n",
       "<path d=\"M23 26h-14c-0.552 0-1-0.448-1-1s0.448-1 1-1h14c0.552 0 1 0.448 1 1s-0.448 1-1 1z\"></path>\n",
       "<path d=\"M23 22h-14c-0.552 0-1-0.448-1-1s0.448-1 1-1h14c0.552 0 1 0.448 1 1s-0.448 1-1 1z\"></path>\n",
       "<path d=\"M23 18h-14c-0.552 0-1-0.448-1-1s0.448-1 1-1h14c0.552 0 1 0.448 1 1s-0.448 1-1 1z\"></path>\n",
       "</symbol>\n",
       "</defs>\n",
       "</svg>\n",
       "<style>/* CSS stylesheet for displaying xarray objects in jupyterlab.\n",
       " *\n",
       " */\n",
       "\n",
       ":root {\n",
       "  --xr-font-color0: var(--jp-content-font-color0, rgba(0, 0, 0, 1));\n",
       "  --xr-font-color2: var(--jp-content-font-color2, rgba(0, 0, 0, 0.54));\n",
       "  --xr-font-color3: var(--jp-content-font-color3, rgba(0, 0, 0, 0.38));\n",
       "  --xr-border-color: var(--jp-border-color2, #e0e0e0);\n",
       "  --xr-disabled-color: var(--jp-layout-color3, #bdbdbd);\n",
       "  --xr-background-color: var(--jp-layout-color0, white);\n",
       "  --xr-background-color-row-even: var(--jp-layout-color1, white);\n",
       "  --xr-background-color-row-odd: var(--jp-layout-color2, #eeeeee);\n",
       "}\n",
       "\n",
       "html[theme=dark],\n",
       "body.vscode-dark {\n",
       "  --xr-font-color0: rgba(255, 255, 255, 1);\n",
       "  --xr-font-color2: rgba(255, 255, 255, 0.54);\n",
       "  --xr-font-color3: rgba(255, 255, 255, 0.38);\n",
       "  --xr-border-color: #1F1F1F;\n",
       "  --xr-disabled-color: #515151;\n",
       "  --xr-background-color: #111111;\n",
       "  --xr-background-color-row-even: #111111;\n",
       "  --xr-background-color-row-odd: #313131;\n",
       "}\n",
       "\n",
       ".xr-wrap {\n",
       "  display: block;\n",
       "  min-width: 300px;\n",
       "  max-width: 700px;\n",
       "}\n",
       "\n",
       ".xr-text-repr-fallback {\n",
       "  /* fallback to plain text repr when CSS is not injected (untrusted notebook) */\n",
       "  display: none;\n",
       "}\n",
       "\n",
       ".xr-header {\n",
       "  padding-top: 6px;\n",
       "  padding-bottom: 6px;\n",
       "  margin-bottom: 4px;\n",
       "  border-bottom: solid 1px var(--xr-border-color);\n",
       "}\n",
       "\n",
       ".xr-header > div,\n",
       ".xr-header > ul {\n",
       "  display: inline;\n",
       "  margin-top: 0;\n",
       "  margin-bottom: 0;\n",
       "}\n",
       "\n",
       ".xr-obj-type,\n",
       ".xr-array-name {\n",
       "  margin-left: 2px;\n",
       "  margin-right: 10px;\n",
       "}\n",
       "\n",
       ".xr-obj-type {\n",
       "  color: var(--xr-font-color2);\n",
       "}\n",
       "\n",
       ".xr-sections {\n",
       "  padding-left: 0 !important;\n",
       "  display: grid;\n",
       "  grid-template-columns: 150px auto auto 1fr 20px 20px;\n",
       "}\n",
       "\n",
       ".xr-section-item {\n",
       "  display: contents;\n",
       "}\n",
       "\n",
       ".xr-section-item input {\n",
       "  display: none;\n",
       "}\n",
       "\n",
       ".xr-section-item input + label {\n",
       "  color: var(--xr-disabled-color);\n",
       "}\n",
       "\n",
       ".xr-section-item input:enabled + label {\n",
       "  cursor: pointer;\n",
       "  color: var(--xr-font-color2);\n",
       "}\n",
       "\n",
       ".xr-section-item input:enabled + label:hover {\n",
       "  color: var(--xr-font-color0);\n",
       "}\n",
       "\n",
       ".xr-section-summary {\n",
       "  grid-column: 1;\n",
       "  color: var(--xr-font-color2);\n",
       "  font-weight: 500;\n",
       "}\n",
       "\n",
       ".xr-section-summary > span {\n",
       "  display: inline-block;\n",
       "  padding-left: 0.5em;\n",
       "}\n",
       "\n",
       ".xr-section-summary-in:disabled + label {\n",
       "  color: var(--xr-font-color2);\n",
       "}\n",
       "\n",
       ".xr-section-summary-in + label:before {\n",
       "  display: inline-block;\n",
       "  content: '►';\n",
       "  font-size: 11px;\n",
       "  width: 15px;\n",
       "  text-align: center;\n",
       "}\n",
       "\n",
       ".xr-section-summary-in:disabled + label:before {\n",
       "  color: var(--xr-disabled-color);\n",
       "}\n",
       "\n",
       ".xr-section-summary-in:checked + label:before {\n",
       "  content: '▼';\n",
       "}\n",
       "\n",
       ".xr-section-summary-in:checked + label > span {\n",
       "  display: none;\n",
       "}\n",
       "\n",
       ".xr-section-summary,\n",
       ".xr-section-inline-details {\n",
       "  padding-top: 4px;\n",
       "  padding-bottom: 4px;\n",
       "}\n",
       "\n",
       ".xr-section-inline-details {\n",
       "  grid-column: 2 / -1;\n",
       "}\n",
       "\n",
       ".xr-section-details {\n",
       "  display: none;\n",
       "  grid-column: 1 / -1;\n",
       "  margin-bottom: 5px;\n",
       "}\n",
       "\n",
       ".xr-section-summary-in:checked ~ .xr-section-details {\n",
       "  display: contents;\n",
       "}\n",
       "\n",
       ".xr-array-wrap {\n",
       "  grid-column: 1 / -1;\n",
       "  display: grid;\n",
       "  grid-template-columns: 20px auto;\n",
       "}\n",
       "\n",
       ".xr-array-wrap > label {\n",
       "  grid-column: 1;\n",
       "  vertical-align: top;\n",
       "}\n",
       "\n",
       ".xr-preview {\n",
       "  color: var(--xr-font-color3);\n",
       "}\n",
       "\n",
       ".xr-array-preview,\n",
       ".xr-array-data {\n",
       "  padding: 0 5px !important;\n",
       "  grid-column: 2;\n",
       "}\n",
       "\n",
       ".xr-array-data,\n",
       ".xr-array-in:checked ~ .xr-array-preview {\n",
       "  display: none;\n",
       "}\n",
       "\n",
       ".xr-array-in:checked ~ .xr-array-data,\n",
       ".xr-array-preview {\n",
       "  display: inline-block;\n",
       "}\n",
       "\n",
       ".xr-dim-list {\n",
       "  display: inline-block !important;\n",
       "  list-style: none;\n",
       "  padding: 0 !important;\n",
       "  margin: 0;\n",
       "}\n",
       "\n",
       ".xr-dim-list li {\n",
       "  display: inline-block;\n",
       "  padding: 0;\n",
       "  margin: 0;\n",
       "}\n",
       "\n",
       ".xr-dim-list:before {\n",
       "  content: '(';\n",
       "}\n",
       "\n",
       ".xr-dim-list:after {\n",
       "  content: ')';\n",
       "}\n",
       "\n",
       ".xr-dim-list li:not(:last-child):after {\n",
       "  content: ',';\n",
       "  padding-right: 5px;\n",
       "}\n",
       "\n",
       ".xr-has-index {\n",
       "  font-weight: bold;\n",
       "}\n",
       "\n",
       ".xr-var-list,\n",
       ".xr-var-item {\n",
       "  display: contents;\n",
       "}\n",
       "\n",
       ".xr-var-item > div,\n",
       ".xr-var-item label,\n",
       ".xr-var-item > .xr-var-name span {\n",
       "  background-color: var(--xr-background-color-row-even);\n",
       "  margin-bottom: 0;\n",
       "}\n",
       "\n",
       ".xr-var-item > .xr-var-name:hover span {\n",
       "  padding-right: 5px;\n",
       "}\n",
       "\n",
       ".xr-var-list > li:nth-child(odd) > div,\n",
       ".xr-var-list > li:nth-child(odd) > label,\n",
       ".xr-var-list > li:nth-child(odd) > .xr-var-name span {\n",
       "  background-color: var(--xr-background-color-row-odd);\n",
       "}\n",
       "\n",
       ".xr-var-name {\n",
       "  grid-column: 1;\n",
       "}\n",
       "\n",
       ".xr-var-dims {\n",
       "  grid-column: 2;\n",
       "}\n",
       "\n",
       ".xr-var-dtype {\n",
       "  grid-column: 3;\n",
       "  text-align: right;\n",
       "  color: var(--xr-font-color2);\n",
       "}\n",
       "\n",
       ".xr-var-preview {\n",
       "  grid-column: 4;\n",
       "}\n",
       "\n",
       ".xr-var-name,\n",
       ".xr-var-dims,\n",
       ".xr-var-dtype,\n",
       ".xr-preview,\n",
       ".xr-attrs dt {\n",
       "  white-space: nowrap;\n",
       "  overflow: hidden;\n",
       "  text-overflow: ellipsis;\n",
       "  padding-right: 10px;\n",
       "}\n",
       "\n",
       ".xr-var-name:hover,\n",
       ".xr-var-dims:hover,\n",
       ".xr-var-dtype:hover,\n",
       ".xr-attrs dt:hover {\n",
       "  overflow: visible;\n",
       "  width: auto;\n",
       "  z-index: 1;\n",
       "}\n",
       "\n",
       ".xr-var-attrs,\n",
       ".xr-var-data {\n",
       "  display: none;\n",
       "  background-color: var(--xr-background-color) !important;\n",
       "  padding-bottom: 5px !important;\n",
       "}\n",
       "\n",
       ".xr-var-attrs-in:checked ~ .xr-var-attrs,\n",
       ".xr-var-data-in:checked ~ .xr-var-data {\n",
       "  display: block;\n",
       "}\n",
       "\n",
       ".xr-var-data > table {\n",
       "  float: right;\n",
       "}\n",
       "\n",
       ".xr-var-name span,\n",
       ".xr-var-data,\n",
       ".xr-attrs {\n",
       "  padding-left: 25px !important;\n",
       "}\n",
       "\n",
       ".xr-attrs,\n",
       ".xr-var-attrs,\n",
       ".xr-var-data {\n",
       "  grid-column: 1 / -1;\n",
       "}\n",
       "\n",
       "dl.xr-attrs {\n",
       "  padding: 0;\n",
       "  margin: 0;\n",
       "  display: grid;\n",
       "  grid-template-columns: 125px auto;\n",
       "}\n",
       "\n",
       ".xr-attrs dt,\n",
       ".xr-attrs dd {\n",
       "  padding: 0;\n",
       "  margin: 0;\n",
       "  float: left;\n",
       "  padding-right: 10px;\n",
       "  width: auto;\n",
       "}\n",
       "\n",
       ".xr-attrs dt {\n",
       "  font-weight: normal;\n",
       "  grid-column: 1;\n",
       "}\n",
       "\n",
       ".xr-attrs dt:hover span {\n",
       "  display: inline-block;\n",
       "  background: var(--xr-background-color);\n",
       "  padding-right: 10px;\n",
       "}\n",
       "\n",
       ".xr-attrs dd {\n",
       "  grid-column: 2;\n",
       "  white-space: pre-wrap;\n",
       "  word-break: break-all;\n",
       "}\n",
       "\n",
       ".xr-icon-database,\n",
       ".xr-icon-file-text2 {\n",
       "  display: inline-block;\n",
       "  vertical-align: middle;\n",
       "  width: 1em;\n",
       "  height: 1.5em !important;\n",
       "  stroke-width: 0;\n",
       "  stroke: currentColor;\n",
       "  fill: currentColor;\n",
       "}\n",
       "</style><pre class='xr-text-repr-fallback'>&lt;xarray.DataArray &#x27;transpose-ab2ad37e6fb21bdae1a52b30678c61f2&#x27; (T: 1, C: 4, Z: 1, Y: 1004, X: 1004)&gt;\n",
       "dask.array&lt;getitem, shape=(1, 4, 1, 1004, 1004), dtype=uint8, chunksize=(1, 1, 1, 512, 512), chunktype=numpy.ndarray&gt;\n",
       "Coordinates:\n",
       "  * C        (C) &lt;U5 &#x27;Gray&#x27; &#x27;Red&#x27; &#x27;Green&#x27; &#x27;Cyan&#x27;\n",
       "  * Y        (Y) float64 0.0 4.985 9.969 14.95 ... 4.99e+03 4.995e+03 5e+03\n",
       "  * X        (X) float64 0.0 4.985 9.969 14.95 ... 4.99e+03 4.995e+03 5e+03\n",
       "Dimensions without coordinates: T, Z\n",
       "Attributes:\n",
       "    unprocessed:  &lt;Element &#x27;LMSDataContainerHeader&#x27; at 0x7f4200094220&gt;</pre><div class='xr-wrap' hidden><div class='xr-header'><div class='xr-obj-type'>xarray.DataArray</div><div class='xr-array-name'>'transpose-ab2ad37e6fb21bdae1a52b30678c61f2'</div><ul class='xr-dim-list'><li><span>T</span>: 1</li><li><span class='xr-has-index'>C</span>: 4</li><li><span>Z</span>: 1</li><li><span class='xr-has-index'>Y</span>: 1004</li><li><span class='xr-has-index'>X</span>: 1004</li></ul></div><ul class='xr-sections'><li class='xr-section-item'><div class='xr-array-wrap'><input id='section-03bd64ca-dcc8-451b-a691-87daf9cd28a0' class='xr-array-in' type='checkbox' checked><label for='section-03bd64ca-dcc8-451b-a691-87daf9cd28a0' title='Show/hide data repr'><svg class='icon xr-icon-database'><use xlink:href='#icon-database'></use></svg></label><div class='xr-array-preview xr-preview'><span>dask.array&lt;chunksize=(1, 1, 1, 512, 512), meta=np.ndarray&gt;</span></div><div class='xr-array-data'><table>\n",
       "<tr>\n",
       "<td>\n",
       "<table>\n",
       "  <thead>\n",
       "    <tr><td> </td><th> Array </th><th> Chunk </th></tr>\n",
       "  </thead>\n",
       "  <tbody>\n",
       "    <tr><th> Bytes </th><td> 3.85 MiB </td> <td> 256.00 kiB </td></tr>\n",
       "    <tr><th> Shape </th><td> (1, 4, 1, 1004, 1004) </td> <td> (1, 1, 1, 512, 512) </td></tr>\n",
       "    <tr><th> Count </th><td> 8492 Tasks </td><td> 16 Chunks </td></tr>\n",
       "    <tr><th> Type </th><td> uint8 </td><td> numpy.ndarray </td></tr>\n",
       "  </tbody>\n",
       "</table>\n",
       "</td>\n",
       "<td>\n",
       "<svg width=\"374\" height=\"184\" style=\"stroke:rgb(0,0,0);stroke-width:1\" >\n",
       "\n",
       "  <!-- Horizontal lines -->\n",
       "  <line x1=\"0\" y1=\"0\" x2=\"25\" y2=\"0\" style=\"stroke-width:2\" />\n",
       "  <line x1=\"0\" y1=\"25\" x2=\"25\" y2=\"25\" style=\"stroke-width:2\" />\n",
       "\n",
       "  <!-- Vertical lines -->\n",
       "  <line x1=\"0\" y1=\"0\" x2=\"0\" y2=\"25\" style=\"stroke-width:2\" />\n",
       "  <line x1=\"6\" y1=\"0\" x2=\"6\" y2=\"25\" />\n",
       "  <line x1=\"12\" y1=\"0\" x2=\"12\" y2=\"25\" />\n",
       "  <line x1=\"19\" y1=\"0\" x2=\"19\" y2=\"25\" />\n",
       "  <line x1=\"25\" y1=\"0\" x2=\"25\" y2=\"25\" style=\"stroke-width:2\" />\n",
       "\n",
       "  <!-- Colored Rectangle -->\n",
       "  <polygon points=\"0.0,0.0 25.412616514582485,0.0 25.412616514582485,25.412616514582485 0.0,25.412616514582485\" style=\"fill:#ECB172A0;stroke-width:0\"/>\n",
       "\n",
       "  <!-- Text -->\n",
       "  <text x=\"12.706308\" y=\"45.412617\" font-size=\"1.0rem\" font-weight=\"100\" text-anchor=\"middle\" >4</text>\n",
       "  <text x=\"45.412617\" y=\"12.706308\" font-size=\"1.0rem\" font-weight=\"100\" text-anchor=\"middle\" transform=\"rotate(0,45.412617,12.706308)\">1</text>\n",
       "\n",
       "\n",
       "  <!-- Horizontal lines -->\n",
       "  <line x1=\"95\" y1=\"0\" x2=\"109\" y2=\"14\" style=\"stroke-width:2\" />\n",
       "  <line x1=\"95\" y1=\"61\" x2=\"109\" y2=\"76\" />\n",
       "  <line x1=\"95\" y1=\"120\" x2=\"109\" y2=\"134\" style=\"stroke-width:2\" />\n",
       "\n",
       "  <!-- Vertical lines -->\n",
       "  <line x1=\"95\" y1=\"0\" x2=\"95\" y2=\"120\" style=\"stroke-width:2\" />\n",
       "  <line x1=\"109\" y1=\"14\" x2=\"109\" y2=\"134\" style=\"stroke-width:2\" />\n",
       "\n",
       "  <!-- Colored Rectangle -->\n",
       "  <polygon points=\"95.0,0.0 109.9485979497544,14.948597949754403 109.9485979497544,134.9485979497544 95.0,120.0\" style=\"fill:#ECB172A0;stroke-width:0\"/>\n",
       "\n",
       "  <!-- Horizontal lines -->\n",
       "  <line x1=\"95\" y1=\"0\" x2=\"215\" y2=\"0\" style=\"stroke-width:2\" />\n",
       "  <line x1=\"109\" y1=\"14\" x2=\"229\" y2=\"14\" style=\"stroke-width:2\" />\n",
       "\n",
       "  <!-- Vertical lines -->\n",
       "  <line x1=\"95\" y1=\"0\" x2=\"109\" y2=\"14\" style=\"stroke-width:2\" />\n",
       "  <line x1=\"156\" y1=\"0\" x2=\"171\" y2=\"14\" />\n",
       "  <line x1=\"215\" y1=\"0\" x2=\"229\" y2=\"14\" style=\"stroke-width:2\" />\n",
       "\n",
       "  <!-- Colored Rectangle -->\n",
       "  <polygon points=\"95.0,0.0 215.0,0.0 229.9485979497544,14.948597949754403 109.9485979497544,14.948597949754403\" style=\"fill:#ECB172A0;stroke-width:0\"/>\n",
       "\n",
       "  <!-- Horizontal lines -->\n",
       "  <line x1=\"109\" y1=\"14\" x2=\"229\" y2=\"14\" style=\"stroke-width:2\" />\n",
       "  <line x1=\"109\" y1=\"76\" x2=\"229\" y2=\"76\" />\n",
       "  <line x1=\"109\" y1=\"134\" x2=\"229\" y2=\"134\" style=\"stroke-width:2\" />\n",
       "\n",
       "  <!-- Vertical lines -->\n",
       "  <line x1=\"109\" y1=\"14\" x2=\"109\" y2=\"134\" style=\"stroke-width:2\" />\n",
       "  <line x1=\"171\" y1=\"14\" x2=\"171\" y2=\"134\" />\n",
       "  <line x1=\"229\" y1=\"14\" x2=\"229\" y2=\"134\" style=\"stroke-width:2\" />\n",
       "\n",
       "  <!-- Colored Rectangle -->\n",
       "  <polygon points=\"109.9485979497544,14.948597949754403 229.9485979497544,14.948597949754403 229.9485979497544,134.9485979497544 109.9485979497544,134.9485979497544\" style=\"fill:#ECB172A0;stroke-width:0\"/>\n",
       "\n",
       "  <!-- Text -->\n",
       "  <text x=\"169.948598\" y=\"154.948598\" font-size=\"1.0rem\" font-weight=\"100\" text-anchor=\"middle\" >1004</text>\n",
       "  <text x=\"249.948598\" y=\"74.948598\" font-size=\"1.0rem\" font-weight=\"100\" text-anchor=\"middle\" transform=\"rotate(-90,249.948598,74.948598)\">1004</text>\n",
       "  <text x=\"92.474299\" y=\"147.474299\" font-size=\"1.0rem\" font-weight=\"100\" text-anchor=\"middle\" transform=\"rotate(45,92.474299,147.474299)\">1</text>\n",
       "</svg>\n",
       "</td>\n",
       "</tr>\n",
       "</table></div></div></li><li class='xr-section-item'><input id='section-557f42cb-4087-41c1-a542-a85f3acafc07' class='xr-section-summary-in' type='checkbox'  checked><label for='section-557f42cb-4087-41c1-a542-a85f3acafc07' class='xr-section-summary' >Coordinates: <span>(3)</span></label><div class='xr-section-inline-details'></div><div class='xr-section-details'><ul class='xr-var-list'><li class='xr-var-item'><div class='xr-var-name'><span class='xr-has-index'>C</span></div><div class='xr-var-dims'>(C)</div><div class='xr-var-dtype'>&lt;U5</div><div class='xr-var-preview xr-preview'>&#x27;Gray&#x27; &#x27;Red&#x27; &#x27;Green&#x27; &#x27;Cyan&#x27;</div><input id='attrs-93d96727-02b8-4513-b20d-449a6c1a1a10' class='xr-var-attrs-in' type='checkbox' disabled><label for='attrs-93d96727-02b8-4513-b20d-449a6c1a1a10' title='Show/Hide attributes'><svg class='icon xr-icon-file-text2'><use xlink:href='#icon-file-text2'></use></svg></label><input id='data-7dbe6cd2-8ec2-440e-b802-cda83e43391d' class='xr-var-data-in' type='checkbox'><label for='data-7dbe6cd2-8ec2-440e-b802-cda83e43391d' title='Show/Hide data repr'><svg class='icon xr-icon-database'><use xlink:href='#icon-database'></use></svg></label><div class='xr-var-attrs'><dl class='xr-attrs'></dl></div><div class='xr-var-data'><pre>array([&#x27;Gray&#x27;, &#x27;Red&#x27;, &#x27;Green&#x27;, &#x27;Cyan&#x27;], dtype=&#x27;&lt;U5&#x27;)</pre></div></li><li class='xr-var-item'><div class='xr-var-name'><span class='xr-has-index'>Y</span></div><div class='xr-var-dims'>(Y)</div><div class='xr-var-dtype'>float64</div><div class='xr-var-preview xr-preview'>0.0 4.985 9.969 ... 4.995e+03 5e+03</div><input id='attrs-99d61a30-ee52-4e6e-b861-c7fe1b671066' class='xr-var-attrs-in' type='checkbox' disabled><label for='attrs-99d61a30-ee52-4e6e-b861-c7fe1b671066' title='Show/Hide attributes'><svg class='icon xr-icon-file-text2'><use xlink:href='#icon-file-text2'></use></svg></label><input id='data-378098dc-ae05-48e1-bedd-273cd8bca517' class='xr-var-data-in' type='checkbox'><label for='data-378098dc-ae05-48e1-bedd-273cd8bca517' title='Show/Hide data repr'><svg class='icon xr-icon-database'><use xlink:href='#icon-database'></use></svg></label><div class='xr-var-attrs'><dl class='xr-attrs'></dl></div><div class='xr-var-data'><pre>array([0.000000e+00, 4.984719e+00, 9.969438e+00, ..., 4.989704e+03,\n",
       "       4.994688e+03, 4.999673e+03])</pre></div></li><li class='xr-var-item'><div class='xr-var-name'><span class='xr-has-index'>X</span></div><div class='xr-var-dims'>(X)</div><div class='xr-var-dtype'>float64</div><div class='xr-var-preview xr-preview'>0.0 4.985 9.969 ... 4.995e+03 5e+03</div><input id='attrs-9db62681-ae94-4588-8b87-dfa2c7b0b6dc' class='xr-var-attrs-in' type='checkbox' disabled><label for='attrs-9db62681-ae94-4588-8b87-dfa2c7b0b6dc' title='Show/Hide attributes'><svg class='icon xr-icon-file-text2'><use xlink:href='#icon-file-text2'></use></svg></label><input id='data-2867c75e-9636-41f6-aeea-4b533e935147' class='xr-var-data-in' type='checkbox'><label for='data-2867c75e-9636-41f6-aeea-4b533e935147' title='Show/Hide data repr'><svg class='icon xr-icon-database'><use xlink:href='#icon-database'></use></svg></label><div class='xr-var-attrs'><dl class='xr-attrs'></dl></div><div class='xr-var-data'><pre>array([0.000000e+00, 4.984719e+00, 9.969438e+00, ..., 4.989704e+03,\n",
       "       4.994688e+03, 4.999673e+03])</pre></div></li></ul></div></li><li class='xr-section-item'><input id='section-0e5ed8a5-9f2b-4393-b234-4f5f6cbbb1a9' class='xr-section-summary-in' type='checkbox'  checked><label for='section-0e5ed8a5-9f2b-4393-b234-4f5f6cbbb1a9' class='xr-section-summary' >Attributes: <span>(1)</span></label><div class='xr-section-inline-details'></div><div class='xr-section-details'><dl class='xr-attrs'><dt><span>unprocessed :</span></dt><dd>&lt;Element &#x27;LMSDataContainerHeader&#x27; at 0x7f4200094220&gt;</dd></dl></div></li></ul></div></div>"
      ],
      "text/plain": [
       "<xarray.DataArray 'transpose-ab2ad37e6fb21bdae1a52b30678c61f2' (T: 1, C: 4, Z: 1, Y: 1004, X: 1004)>\n",
       "dask.array<getitem, shape=(1, 4, 1, 1004, 1004), dtype=uint8, chunksize=(1, 1, 1, 512, 512), chunktype=numpy.ndarray>\n",
       "Coordinates:\n",
       "  * C        (C) <U5 'Gray' 'Red' 'Green' 'Cyan'\n",
       "  * Y        (Y) float64 0.0 4.985 9.969 14.95 ... 4.99e+03 4.995e+03 5e+03\n",
       "  * X        (X) float64 0.0 4.985 9.969 14.95 ... 4.99e+03 4.995e+03 5e+03\n",
       "Dimensions without coordinates: T, Z\n",
       "Attributes:\n",
       "    unprocessed:  <Element 'LMSDataContainerHeader' at 0x7f4200094220>"
      ]
     },
     "execution_count": 20,
     "metadata": {},
     "output_type": "execute_result"
    }
   ],
   "source": [
    "tiled.xarray_dask_data.loc[:, :, :, :5000, :5000]"
   ]
  },
  {
   "cell_type": "markdown",
   "id": "3c71b513-c095-4d97-8030-41c56e343205",
   "metadata": {
    "slideshow": {
     "slide_type": "slide"
    },
    "tags": []
   },
   "source": [
    "### New Features\n",
    "✅ FSSpec Adopted"
   ]
  },
  {
   "cell_type": "code",
   "execution_count": 21,
   "id": "b66585ad-cb3c-4d6c-8f71-d42df31d4e5d",
   "metadata": {},
   "outputs": [
    {
     "name": "stderr",
     "output_type": "stream",
     "text": [
      "[INFO: credentials:1222 2021-05-10 23:35:14,306] Found credentials in shared credentials file: ~/.aws/credentials\n"
     ]
    },
    {
     "data": {
      "text/plain": [
       "<Dimensions [T: 1, C: 1, Z: 1, Y: 452, X: 400, S: 3]>"
      ]
     },
     "execution_count": 21,
     "metadata": {},
     "output_type": "execute_result"
    }
   ],
   "source": [
    "AICSImage(\"s3://aics-modeling-packages-test-resources/aicsimageio/test_resources/resources/example.jpg\").dims"
   ]
  },
  {
   "cell_type": "markdown",
   "id": "4973cbe9-477a-4491-99bc-b4dc0c25270f",
   "metadata": {
    "slideshow": {
     "slide_type": "slide"
    },
    "tags": []
   },
   "source": [
    "### New Features\n",
    "✅ Better Writers<br>\n",
    "✅ Dedicated RGB / BGR Support<br>\n",
    "✅ Optional Reader Installation<br>\n",
    "\n",
    "... And more!"
   ]
  },
  {
   "cell_type": "markdown",
   "id": "d52f9323-fc8f-47f4-8113-f37b0e32f8e1",
   "metadata": {
    "slideshow": {
     "slide_type": "slide"
    },
    "tags": []
   },
   "source": [
    "### Upcoming\n",
    "\n",
    "⏭️ `OME.Zarr` Support\n",
    "\n",
    "⏭️ On the Fly Metadata Translation (CZI-to-OME XSLT)\n",
    "\n",
    "and of course...\n",
    "\n",
    "⏭️ Updating the `napari-aicsimageio` plugin"
   ]
  },
  {
   "cell_type": "markdown",
   "id": "8da74f0c-8264-4199-8903-22f866aee5ff",
   "metadata": {
    "slideshow": {
     "slide_type": "slide"
    },
    "tags": []
   },
   "source": [
    "## Install\n",
    "\n",
    "`pip install aicsimageio`\n",
    "\n",
    "## Links\n",
    "\n",
    "#### AICSImageIO\n",
    "Repo: [github.com/AllenCellModeling/aicsimageio](https://github.com/AllenCellModeling/aicsimageio)<br>\n",
    "Docs: [AllenCellModeling.github.io/aicsimageio](https://AllenCellModeling.github.io/aicsimageio)\n",
    "\n",
    "#### Me\n",
    "GitHub: [github.com/JacksonMaxfield](https://github.com/JacksonMaxfield)<br>\n",
    "Twitter: [twitter.com/jmaxfieldbrown](https://twitter.com/jmaxfieldbrown)"
   ]
  }
 ],
 "metadata": {
  "kernelspec": {
   "display_name": "Python 3",
   "language": "python",
   "name": "python3"
  },
  "language_info": {
   "codemirror_mode": {
    "name": "ipython",
    "version": 3
   },
   "file_extension": ".py",
   "mimetype": "text/x-python",
   "name": "python",
   "nbconvert_exporter": "python",
   "pygments_lexer": "ipython3",
   "version": "3.9.4"
  }
 },
 "nbformat": 4,
 "nbformat_minor": 5
}
