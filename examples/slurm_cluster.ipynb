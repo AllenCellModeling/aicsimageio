{
 "cells": [
  {
   "cell_type": "code",
   "execution_count": 1,
   "metadata": {},
   "outputs": [
    {
     "data": {
      "text/html": [
       "<table style=\"border: 2px solid white;\">\n",
       "<tr>\n",
       "<td style=\"vertical-align: top; border: 0px solid white\">\n",
       "<h3 style=\"text-align: left;\">Client</h3>\n",
       "<ul style=\"text-align: left; list-style: none; margin: 0; padding: 0;\">\n",
       "  <li><b>Scheduler: </b>tcp://localhost:40307</li>\n",
       "  <li><b>Dashboard: </b><a href='http://localhost:8787/status' target='_blank'>http://localhost:8787/status</a>\n",
       "</ul>\n",
       "</td>\n",
       "<td style=\"vertical-align: top; border: 0px solid white\">\n",
       "<h3 style=\"text-align: left;\">Cluster</h3>\n",
       "<ul style=\"text-align: left; list-style:none; margin: 0; padding: 0;\">\n",
       "  <li><b>Workers: </b>13</li>\n",
       "  <li><b>Cores: </b>26</li>\n",
       "  <li><b>Memory: </b>52.00 GB</li>\n",
       "</ul>\n",
       "</td>\n",
       "</tr>\n",
       "</table>"
      ],
      "text/plain": [
       "<Client: 'tcp://172.20.5.206:40307' processes=13 threads=26, memory=52.00 GB>"
      ]
     },
     "execution_count": 1,
     "metadata": {},
     "output_type": "execute_result"
    }
   ],
   "source": [
    "from distributed import Client\n",
    "client = Client(\"tcp://localhost:40307\")\n",
    "client"
   ]
  },
  {
   "cell_type": "code",
   "execution_count": 2,
   "metadata": {},
   "outputs": [
    {
     "name": "stdout",
     "output_type": "stream",
     "text": [
      "143.37281322479248 MB\n"
     ]
    }
   ],
   "source": [
    "from pathlib import Path\n",
    "f = \"/allen/programs/allencell/data/proj0/add/873/2a4/2fb/4c8/f79/742/86b/1a1/001/00/3500002032_100X_20180511_psf-Scene-1-P1-G09.ome.tiff\"\n",
    "f = Path(f)\n",
    "size_in_mb = f.stat().st_size / 2**20\n",
    "print(f\"{size_in_mb} MB\")"
   ]
  },
  {
   "cell_type": "code",
   "execution_count": 3,
   "metadata": {},
   "outputs": [
    {
     "data": {
      "text/plain": [
       "<AICSImage [OmeTiffReader]>"
      ]
     },
     "execution_count": 3,
     "metadata": {},
     "output_type": "execute_result"
    }
   ],
   "source": [
    "from aicsimageio import AICSImage\n",
    "img = AICSImage(f)\n",
    "img"
   ]
  },
  {
   "cell_type": "code",
   "execution_count": 4,
   "metadata": {},
   "outputs": [
    {
     "data": {
      "text/html": [
       "<table>\n",
       "<tr>\n",
       "<td>\n",
       "<table>\n",
       "  <thead>\n",
       "    <tr><td> </td><th> Array </th><th> Chunk </th></tr>\n",
       "  </thead>\n",
       "  <tbody>\n",
       "    <tr><th> Bytes </th><td> 276.76 MB </td> <td> 1.15 MB </td></tr>\n",
       "    <tr><th> Shape </th><td> (1, 1, 8, 30, 624, 924) </td> <td> (1, 1, 1, 1, 624, 924) </td></tr>\n",
       "    <tr><th> Count </th><td> 1680 Tasks </td><td> 240 Chunks </td></tr>\n",
       "    <tr><th> Type </th><td> uint16 </td><td> numpy.ndarray </td></tr>\n",
       "  </tbody>\n",
       "</table>\n",
       "</td>\n",
       "<td>\n",
       "<svg width=\"428\" height=\"149\" style=\"stroke:rgb(0,0,0);stroke-width:1\" >\n",
       "\n",
       "  <!-- Horizontal lines -->\n",
       "  <line x1=\"10\" y1=\"0\" x2=\"24\" y2=\"14\" style=\"stroke-width:2\" />\n",
       "  <line x1=\"10\" y1=\"25\" x2=\"24\" y2=\"40\" style=\"stroke-width:2\" />\n",
       "\n",
       "  <!-- Vertical lines -->\n",
       "  <line x1=\"10\" y1=\"0\" x2=\"10\" y2=\"25\" style=\"stroke-width:2\" />\n",
       "  <line x1=\"24\" y1=\"14\" x2=\"24\" y2=\"40\" style=\"stroke-width:2\" />\n",
       "\n",
       "  <!-- Colored Rectangle -->\n",
       "  <polygon points=\"10.000000,0.000000 24.948598,14.948598 24.948598,40.361214 10.000000,25.412617\" style=\"fill:#ECB172A0;stroke-width:0\"/>\n",
       "\n",
       "  <!-- Horizontal lines -->\n",
       "  <line x1=\"10\" y1=\"0\" x2=\"35\" y2=\"0\" style=\"stroke-width:2\" />\n",
       "  <line x1=\"24\" y1=\"14\" x2=\"50\" y2=\"14\" style=\"stroke-width:2\" />\n",
       "\n",
       "  <!-- Vertical lines -->\n",
       "  <line x1=\"10\" y1=\"0\" x2=\"24\" y2=\"14\" style=\"stroke-width:2\" />\n",
       "  <line x1=\"13\" y1=\"0\" x2=\"28\" y2=\"14\" />\n",
       "  <line x1=\"16\" y1=\"0\" x2=\"31\" y2=\"14\" />\n",
       "  <line x1=\"19\" y1=\"0\" x2=\"34\" y2=\"14\" />\n",
       "  <line x1=\"22\" y1=\"0\" x2=\"37\" y2=\"14\" />\n",
       "  <line x1=\"25\" y1=\"0\" x2=\"40\" y2=\"14\" />\n",
       "  <line x1=\"29\" y1=\"0\" x2=\"44\" y2=\"14\" />\n",
       "  <line x1=\"32\" y1=\"0\" x2=\"47\" y2=\"14\" />\n",
       "  <line x1=\"35\" y1=\"0\" x2=\"50\" y2=\"14\" style=\"stroke-width:2\" />\n",
       "\n",
       "  <!-- Colored Rectangle -->\n",
       "  <polygon points=\"10.000000,0.000000 35.412617,0.000000 50.361214,14.948598 24.948598,14.948598\" style=\"fill:#ECB172A0;stroke-width:0\"/>\n",
       "\n",
       "  <!-- Horizontal lines -->\n",
       "  <line x1=\"24\" y1=\"14\" x2=\"50\" y2=\"14\" style=\"stroke-width:2\" />\n",
       "  <line x1=\"24\" y1=\"40\" x2=\"50\" y2=\"40\" style=\"stroke-width:2\" />\n",
       "\n",
       "  <!-- Vertical lines -->\n",
       "  <line x1=\"24\" y1=\"14\" x2=\"24\" y2=\"40\" style=\"stroke-width:2\" />\n",
       "  <line x1=\"28\" y1=\"14\" x2=\"28\" y2=\"40\" />\n",
       "  <line x1=\"31\" y1=\"14\" x2=\"31\" y2=\"40\" />\n",
       "  <line x1=\"34\" y1=\"14\" x2=\"34\" y2=\"40\" />\n",
       "  <line x1=\"37\" y1=\"14\" x2=\"37\" y2=\"40\" />\n",
       "  <line x1=\"40\" y1=\"14\" x2=\"40\" y2=\"40\" />\n",
       "  <line x1=\"44\" y1=\"14\" x2=\"44\" y2=\"40\" />\n",
       "  <line x1=\"47\" y1=\"14\" x2=\"47\" y2=\"40\" />\n",
       "  <line x1=\"50\" y1=\"14\" x2=\"50\" y2=\"40\" style=\"stroke-width:2\" />\n",
       "\n",
       "  <!-- Colored Rectangle -->\n",
       "  <polygon points=\"24.948598,14.948598 50.361214,14.948598 50.361214,40.361214 24.948598,40.361214\" style=\"fill:#ECB172A0;stroke-width:0\"/>\n",
       "\n",
       "  <!-- Text -->\n",
       "  <text x=\"37.654906\" y=\"60.361214\" font-size=\"1.0rem\" font-weight=\"100\" text-anchor=\"middle\" >8</text>\n",
       "  <text x=\"70.361214\" y=\"27.654906\" font-size=\"1.0rem\" font-weight=\"100\" text-anchor=\"middle\" transform=\"rotate(0,70.361214,27.654906)\">1</text>\n",
       "  <text x=\"7.474299\" y=\"52.886915\" font-size=\"1.0rem\" font-weight=\"100\" text-anchor=\"middle\" transform=\"rotate(45,7.474299,52.886915)\">1</text>\n",
       "\n",
       "\n",
       "  <!-- Horizontal lines -->\n",
       "  <line x1=\"120\" y1=\"0\" x2=\"138\" y2=\"18\" style=\"stroke-width:2\" />\n",
       "  <line x1=\"120\" y1=\"81\" x2=\"138\" y2=\"99\" style=\"stroke-width:2\" />\n",
       "\n",
       "  <!-- Vertical lines -->\n",
       "  <line x1=\"120\" y1=\"0\" x2=\"120\" y2=\"81\" style=\"stroke-width:2\" />\n",
       "  <line x1=\"120\" y1=\"0\" x2=\"120\" y2=\"81\" />\n",
       "  <line x1=\"121\" y1=\"1\" x2=\"121\" y2=\"82\" />\n",
       "  <line x1=\"121\" y1=\"1\" x2=\"121\" y2=\"82\" />\n",
       "  <line x1=\"122\" y1=\"2\" x2=\"122\" y2=\"83\" />\n",
       "  <line x1=\"123\" y1=\"3\" x2=\"123\" y2=\"84\" />\n",
       "  <line x1=\"123\" y1=\"3\" x2=\"123\" y2=\"84\" />\n",
       "  <line x1=\"124\" y1=\"4\" x2=\"124\" y2=\"85\" />\n",
       "  <line x1=\"124\" y1=\"4\" x2=\"124\" y2=\"86\" />\n",
       "  <line x1=\"125\" y1=\"5\" x2=\"125\" y2=\"86\" />\n",
       "  <line x1=\"126\" y1=\"6\" x2=\"126\" y2=\"87\" />\n",
       "  <line x1=\"126\" y1=\"6\" x2=\"126\" y2=\"87\" />\n",
       "  <line x1=\"127\" y1=\"7\" x2=\"127\" y2=\"88\" />\n",
       "  <line x1=\"128\" y1=\"8\" x2=\"128\" y2=\"89\" />\n",
       "  <line x1=\"128\" y1=\"8\" x2=\"128\" y2=\"89\" />\n",
       "  <line x1=\"129\" y1=\"9\" x2=\"129\" y2=\"90\" />\n",
       "  <line x1=\"129\" y1=\"9\" x2=\"129\" y2=\"91\" />\n",
       "  <line x1=\"130\" y1=\"10\" x2=\"130\" y2=\"91\" />\n",
       "  <line x1=\"131\" y1=\"11\" x2=\"131\" y2=\"92\" />\n",
       "  <line x1=\"131\" y1=\"11\" x2=\"131\" y2=\"92\" />\n",
       "  <line x1=\"132\" y1=\"12\" x2=\"132\" y2=\"93\" />\n",
       "  <line x1=\"133\" y1=\"13\" x2=\"133\" y2=\"94\" />\n",
       "  <line x1=\"133\" y1=\"13\" x2=\"133\" y2=\"94\" />\n",
       "  <line x1=\"134\" y1=\"14\" x2=\"134\" y2=\"95\" />\n",
       "  <line x1=\"134\" y1=\"14\" x2=\"134\" y2=\"96\" />\n",
       "  <line x1=\"135\" y1=\"15\" x2=\"135\" y2=\"96\" />\n",
       "  <line x1=\"136\" y1=\"16\" x2=\"136\" y2=\"97\" />\n",
       "  <line x1=\"136\" y1=\"16\" x2=\"136\" y2=\"97\" />\n",
       "  <line x1=\"137\" y1=\"17\" x2=\"137\" y2=\"98\" />\n",
       "  <line x1=\"138\" y1=\"18\" x2=\"138\" y2=\"99\" />\n",
       "  <line x1=\"138\" y1=\"18\" x2=\"138\" y2=\"99\" style=\"stroke-width:2\" />\n",
       "\n",
       "  <!-- Colored Rectangle -->\n",
       "  <polygon points=\"120.000000,0.000000 138.744351,18.744351 138.744351,99.783312 120.000000,81.038961\" style=\"fill:#ECB172A0;stroke-width:0\"/>\n",
       "\n",
       "  <!-- Horizontal lines -->\n",
       "  <line x1=\"120\" y1=\"0\" x2=\"240\" y2=\"0\" style=\"stroke-width:2\" />\n",
       "  <line x1=\"120\" y1=\"0\" x2=\"240\" y2=\"0\" />\n",
       "  <line x1=\"121\" y1=\"1\" x2=\"241\" y2=\"1\" />\n",
       "  <line x1=\"121\" y1=\"1\" x2=\"241\" y2=\"1\" />\n",
       "  <line x1=\"122\" y1=\"2\" x2=\"242\" y2=\"2\" />\n",
       "  <line x1=\"123\" y1=\"3\" x2=\"243\" y2=\"3\" />\n",
       "  <line x1=\"123\" y1=\"3\" x2=\"243\" y2=\"3\" />\n",
       "  <line x1=\"124\" y1=\"4\" x2=\"244\" y2=\"4\" />\n",
       "  <line x1=\"124\" y1=\"4\" x2=\"244\" y2=\"4\" />\n",
       "  <line x1=\"125\" y1=\"5\" x2=\"245\" y2=\"5\" />\n",
       "  <line x1=\"126\" y1=\"6\" x2=\"246\" y2=\"6\" />\n",
       "  <line x1=\"126\" y1=\"6\" x2=\"246\" y2=\"6\" />\n",
       "  <line x1=\"127\" y1=\"7\" x2=\"247\" y2=\"7\" />\n",
       "  <line x1=\"128\" y1=\"8\" x2=\"248\" y2=\"8\" />\n",
       "  <line x1=\"128\" y1=\"8\" x2=\"248\" y2=\"8\" />\n",
       "  <line x1=\"129\" y1=\"9\" x2=\"249\" y2=\"9\" />\n",
       "  <line x1=\"129\" y1=\"9\" x2=\"249\" y2=\"9\" />\n",
       "  <line x1=\"130\" y1=\"10\" x2=\"250\" y2=\"10\" />\n",
       "  <line x1=\"131\" y1=\"11\" x2=\"251\" y2=\"11\" />\n",
       "  <line x1=\"131\" y1=\"11\" x2=\"251\" y2=\"11\" />\n",
       "  <line x1=\"132\" y1=\"12\" x2=\"252\" y2=\"12\" />\n",
       "  <line x1=\"133\" y1=\"13\" x2=\"253\" y2=\"13\" />\n",
       "  <line x1=\"133\" y1=\"13\" x2=\"253\" y2=\"13\" />\n",
       "  <line x1=\"134\" y1=\"14\" x2=\"254\" y2=\"14\" />\n",
       "  <line x1=\"134\" y1=\"14\" x2=\"254\" y2=\"14\" />\n",
       "  <line x1=\"135\" y1=\"15\" x2=\"255\" y2=\"15\" />\n",
       "  <line x1=\"136\" y1=\"16\" x2=\"256\" y2=\"16\" />\n",
       "  <line x1=\"136\" y1=\"16\" x2=\"256\" y2=\"16\" />\n",
       "  <line x1=\"137\" y1=\"17\" x2=\"257\" y2=\"17\" />\n",
       "  <line x1=\"138\" y1=\"18\" x2=\"258\" y2=\"18\" />\n",
       "  <line x1=\"138\" y1=\"18\" x2=\"258\" y2=\"18\" style=\"stroke-width:2\" />\n",
       "\n",
       "  <!-- Vertical lines -->\n",
       "  <line x1=\"120\" y1=\"0\" x2=\"138\" y2=\"18\" style=\"stroke-width:2\" />\n",
       "  <line x1=\"240\" y1=\"0\" x2=\"258\" y2=\"18\" style=\"stroke-width:2\" />\n",
       "\n",
       "  <!-- Colored Rectangle -->\n",
       "  <polygon points=\"120.000000,0.000000 240.000000,0.000000 258.744351,18.744351 138.744351,18.744351\" style=\"fill:#ECB172A0;stroke-width:0\"/>\n",
       "\n",
       "  <!-- Horizontal lines -->\n",
       "  <line x1=\"138\" y1=\"18\" x2=\"258\" y2=\"18\" style=\"stroke-width:2\" />\n",
       "  <line x1=\"138\" y1=\"99\" x2=\"258\" y2=\"99\" style=\"stroke-width:2\" />\n",
       "\n",
       "  <!-- Vertical lines -->\n",
       "  <line x1=\"138\" y1=\"18\" x2=\"138\" y2=\"99\" style=\"stroke-width:2\" />\n",
       "  <line x1=\"258\" y1=\"18\" x2=\"258\" y2=\"99\" style=\"stroke-width:2\" />\n",
       "\n",
       "  <!-- Colored Rectangle -->\n",
       "  <polygon points=\"138.744351,18.744351 258.744351,18.744351 258.744351,99.783312 138.744351,99.783312\" style=\"fill:#ECB172A0;stroke-width:0\"/>\n",
       "\n",
       "  <!-- Text -->\n",
       "  <text x=\"198.744351\" y=\"119.783312\" font-size=\"1.0rem\" font-weight=\"100\" text-anchor=\"middle\" >924</text>\n",
       "  <text x=\"278.744351\" y=\"59.263831\" font-size=\"1.0rem\" font-weight=\"100\" text-anchor=\"middle\" transform=\"rotate(-90,278.744351,59.263831)\">624</text>\n",
       "  <text x=\"119.372175\" y=\"110.411136\" font-size=\"1.0rem\" font-weight=\"100\" text-anchor=\"middle\" transform=\"rotate(45,119.372175,110.411136)\">30</text>\n",
       "</svg>\n",
       "</td>\n",
       "</tr>\n",
       "</table>"
      ],
      "text/plain": [
       "dask.array<transpose, shape=(1, 1, 8, 30, 624, 924), dtype=uint16, chunksize=(1, 1, 1, 1, 624, 924), chunktype=numpy.ndarray>"
      ]
     },
     "execution_count": 4,
     "metadata": {},
     "output_type": "execute_result"
    }
   ],
   "source": [
    "img.dask_data"
   ]
  },
  {
   "cell_type": "code",
   "execution_count": 5,
   "metadata": {},
   "outputs": [
    {
     "data": {
      "text/html": [
       "<table>\n",
       "<tr>\n",
       "<td>\n",
       "<table>\n",
       "  <thead>\n",
       "    <tr><td> </td><th> Array </th><th> Chunk </th></tr>\n",
       "  </thead>\n",
       "  <tbody>\n",
       "    <tr><th> Bytes </th><td> 34.59 MB </td> <td> 1.15 MB </td></tr>\n",
       "    <tr><th> Shape </th><td> (30, 624, 924) </td> <td> (1, 624, 924) </td></tr>\n",
       "    <tr><th> Count </th><td> 1710 Tasks </td><td> 30 Chunks </td></tr>\n",
       "    <tr><th> Type </th><td> uint16 </td><td> numpy.ndarray </td></tr>\n",
       "  </tbody>\n",
       "</table>\n",
       "</td>\n",
       "<td>\n",
       "<svg width=\"198\" height=\"149\" style=\"stroke:rgb(0,0,0);stroke-width:1\" >\n",
       "\n",
       "  <!-- Horizontal lines -->\n",
       "  <line x1=\"10\" y1=\"0\" x2=\"28\" y2=\"18\" style=\"stroke-width:2\" />\n",
       "  <line x1=\"10\" y1=\"81\" x2=\"28\" y2=\"99\" style=\"stroke-width:2\" />\n",
       "\n",
       "  <!-- Vertical lines -->\n",
       "  <line x1=\"10\" y1=\"0\" x2=\"10\" y2=\"81\" style=\"stroke-width:2\" />\n",
       "  <line x1=\"10\" y1=\"0\" x2=\"10\" y2=\"81\" />\n",
       "  <line x1=\"11\" y1=\"1\" x2=\"11\" y2=\"82\" />\n",
       "  <line x1=\"11\" y1=\"1\" x2=\"11\" y2=\"82\" />\n",
       "  <line x1=\"12\" y1=\"2\" x2=\"12\" y2=\"83\" />\n",
       "  <line x1=\"13\" y1=\"3\" x2=\"13\" y2=\"84\" />\n",
       "  <line x1=\"13\" y1=\"3\" x2=\"13\" y2=\"84\" />\n",
       "  <line x1=\"14\" y1=\"4\" x2=\"14\" y2=\"85\" />\n",
       "  <line x1=\"14\" y1=\"4\" x2=\"14\" y2=\"86\" />\n",
       "  <line x1=\"15\" y1=\"5\" x2=\"15\" y2=\"86\" />\n",
       "  <line x1=\"16\" y1=\"6\" x2=\"16\" y2=\"87\" />\n",
       "  <line x1=\"16\" y1=\"6\" x2=\"16\" y2=\"87\" />\n",
       "  <line x1=\"17\" y1=\"7\" x2=\"17\" y2=\"88\" />\n",
       "  <line x1=\"18\" y1=\"8\" x2=\"18\" y2=\"89\" />\n",
       "  <line x1=\"18\" y1=\"8\" x2=\"18\" y2=\"89\" />\n",
       "  <line x1=\"19\" y1=\"9\" x2=\"19\" y2=\"90\" />\n",
       "  <line x1=\"19\" y1=\"9\" x2=\"19\" y2=\"91\" />\n",
       "  <line x1=\"20\" y1=\"10\" x2=\"20\" y2=\"91\" />\n",
       "  <line x1=\"21\" y1=\"11\" x2=\"21\" y2=\"92\" />\n",
       "  <line x1=\"21\" y1=\"11\" x2=\"21\" y2=\"92\" />\n",
       "  <line x1=\"22\" y1=\"12\" x2=\"22\" y2=\"93\" />\n",
       "  <line x1=\"23\" y1=\"13\" x2=\"23\" y2=\"94\" />\n",
       "  <line x1=\"23\" y1=\"13\" x2=\"23\" y2=\"94\" />\n",
       "  <line x1=\"24\" y1=\"14\" x2=\"24\" y2=\"95\" />\n",
       "  <line x1=\"24\" y1=\"14\" x2=\"24\" y2=\"96\" />\n",
       "  <line x1=\"25\" y1=\"15\" x2=\"25\" y2=\"96\" />\n",
       "  <line x1=\"26\" y1=\"16\" x2=\"26\" y2=\"97\" />\n",
       "  <line x1=\"26\" y1=\"16\" x2=\"26\" y2=\"97\" />\n",
       "  <line x1=\"27\" y1=\"17\" x2=\"27\" y2=\"98\" />\n",
       "  <line x1=\"28\" y1=\"18\" x2=\"28\" y2=\"99\" />\n",
       "  <line x1=\"28\" y1=\"18\" x2=\"28\" y2=\"99\" style=\"stroke-width:2\" />\n",
       "\n",
       "  <!-- Colored Rectangle -->\n",
       "  <polygon points=\"10.000000,0.000000 28.744351,18.744351 28.744351,99.783312 10.000000,81.038961\" style=\"fill:#ECB172A0;stroke-width:0\"/>\n",
       "\n",
       "  <!-- Horizontal lines -->\n",
       "  <line x1=\"10\" y1=\"0\" x2=\"130\" y2=\"0\" style=\"stroke-width:2\" />\n",
       "  <line x1=\"10\" y1=\"0\" x2=\"130\" y2=\"0\" />\n",
       "  <line x1=\"11\" y1=\"1\" x2=\"131\" y2=\"1\" />\n",
       "  <line x1=\"11\" y1=\"1\" x2=\"131\" y2=\"1\" />\n",
       "  <line x1=\"12\" y1=\"2\" x2=\"132\" y2=\"2\" />\n",
       "  <line x1=\"13\" y1=\"3\" x2=\"133\" y2=\"3\" />\n",
       "  <line x1=\"13\" y1=\"3\" x2=\"133\" y2=\"3\" />\n",
       "  <line x1=\"14\" y1=\"4\" x2=\"134\" y2=\"4\" />\n",
       "  <line x1=\"14\" y1=\"4\" x2=\"134\" y2=\"4\" />\n",
       "  <line x1=\"15\" y1=\"5\" x2=\"135\" y2=\"5\" />\n",
       "  <line x1=\"16\" y1=\"6\" x2=\"136\" y2=\"6\" />\n",
       "  <line x1=\"16\" y1=\"6\" x2=\"136\" y2=\"6\" />\n",
       "  <line x1=\"17\" y1=\"7\" x2=\"137\" y2=\"7\" />\n",
       "  <line x1=\"18\" y1=\"8\" x2=\"138\" y2=\"8\" />\n",
       "  <line x1=\"18\" y1=\"8\" x2=\"138\" y2=\"8\" />\n",
       "  <line x1=\"19\" y1=\"9\" x2=\"139\" y2=\"9\" />\n",
       "  <line x1=\"19\" y1=\"9\" x2=\"139\" y2=\"9\" />\n",
       "  <line x1=\"20\" y1=\"10\" x2=\"140\" y2=\"10\" />\n",
       "  <line x1=\"21\" y1=\"11\" x2=\"141\" y2=\"11\" />\n",
       "  <line x1=\"21\" y1=\"11\" x2=\"141\" y2=\"11\" />\n",
       "  <line x1=\"22\" y1=\"12\" x2=\"142\" y2=\"12\" />\n",
       "  <line x1=\"23\" y1=\"13\" x2=\"143\" y2=\"13\" />\n",
       "  <line x1=\"23\" y1=\"13\" x2=\"143\" y2=\"13\" />\n",
       "  <line x1=\"24\" y1=\"14\" x2=\"144\" y2=\"14\" />\n",
       "  <line x1=\"24\" y1=\"14\" x2=\"144\" y2=\"14\" />\n",
       "  <line x1=\"25\" y1=\"15\" x2=\"145\" y2=\"15\" />\n",
       "  <line x1=\"26\" y1=\"16\" x2=\"146\" y2=\"16\" />\n",
       "  <line x1=\"26\" y1=\"16\" x2=\"146\" y2=\"16\" />\n",
       "  <line x1=\"27\" y1=\"17\" x2=\"147\" y2=\"17\" />\n",
       "  <line x1=\"28\" y1=\"18\" x2=\"148\" y2=\"18\" />\n",
       "  <line x1=\"28\" y1=\"18\" x2=\"148\" y2=\"18\" style=\"stroke-width:2\" />\n",
       "\n",
       "  <!-- Vertical lines -->\n",
       "  <line x1=\"10\" y1=\"0\" x2=\"28\" y2=\"18\" style=\"stroke-width:2\" />\n",
       "  <line x1=\"130\" y1=\"0\" x2=\"148\" y2=\"18\" style=\"stroke-width:2\" />\n",
       "\n",
       "  <!-- Colored Rectangle -->\n",
       "  <polygon points=\"10.000000,0.000000 130.000000,0.000000 148.744351,18.744351 28.744351,18.744351\" style=\"fill:#ECB172A0;stroke-width:0\"/>\n",
       "\n",
       "  <!-- Horizontal lines -->\n",
       "  <line x1=\"28\" y1=\"18\" x2=\"148\" y2=\"18\" style=\"stroke-width:2\" />\n",
       "  <line x1=\"28\" y1=\"99\" x2=\"148\" y2=\"99\" style=\"stroke-width:2\" />\n",
       "\n",
       "  <!-- Vertical lines -->\n",
       "  <line x1=\"28\" y1=\"18\" x2=\"28\" y2=\"99\" style=\"stroke-width:2\" />\n",
       "  <line x1=\"148\" y1=\"18\" x2=\"148\" y2=\"99\" style=\"stroke-width:2\" />\n",
       "\n",
       "  <!-- Colored Rectangle -->\n",
       "  <polygon points=\"28.744351,18.744351 148.744351,18.744351 148.744351,99.783312 28.744351,99.783312\" style=\"fill:#ECB172A0;stroke-width:0\"/>\n",
       "\n",
       "  <!-- Text -->\n",
       "  <text x=\"88.744351\" y=\"119.783312\" font-size=\"1.0rem\" font-weight=\"100\" text-anchor=\"middle\" >924</text>\n",
       "  <text x=\"168.744351\" y=\"59.263831\" font-size=\"1.0rem\" font-weight=\"100\" text-anchor=\"middle\" transform=\"rotate(-90,168.744351,59.263831)\">624</text>\n",
       "  <text x=\"9.372175\" y=\"110.411136\" font-size=\"1.0rem\" font-weight=\"100\" text-anchor=\"middle\" transform=\"rotate(45,9.372175,110.411136)\">30</text>\n",
       "</svg>\n",
       "</td>\n",
       "</tr>\n",
       "</table>"
      ],
      "text/plain": [
       "dask.array<getitem, shape=(30, 624, 924), dtype=uint16, chunksize=(1, 624, 924), chunktype=numpy.ndarray>"
      ]
     },
     "execution_count": 5,
     "metadata": {},
     "output_type": "execute_result"
    }
   ],
   "source": [
    "s0c0 = img.dask_data[0, 0, 0, :]\n",
    "s0c0"
   ]
  },
  {
   "cell_type": "code",
   "execution_count": 6,
   "metadata": {},
   "outputs": [
    {
     "name": "stdout",
     "output_type": "stream",
     "text": [
      "CPU times: user 151 ms, sys: 59.3 ms, total: 210 ms\n",
      "Wall time: 1.25 s\n"
     ]
    },
    {
     "data": {
      "text/plain": [
       "(30, 624, 924)"
      ]
     },
     "execution_count": 6,
     "metadata": {},
     "output_type": "execute_result"
    }
   ],
   "source": [
    "%%time\n",
    "s0c0.compute().shape"
   ]
  },
  {
   "cell_type": "code",
   "execution_count": 7,
   "metadata": {},
   "outputs": [],
   "source": [
    "import dask.array as da"
   ]
  },
  {
   "cell_type": "code",
   "execution_count": 8,
   "metadata": {},
   "outputs": [
    {
     "name": "stdout",
     "output_type": "stream",
     "text": [
      "CPU times: user 117 ms, sys: 22 ms, total: 139 ms\n",
      "Wall time: 855 ms\n"
     ]
    },
    {
     "data": {
      "text/plain": [
       "array([403., 431.])"
      ]
     },
     "execution_count": 8,
     "metadata": {},
     "output_type": "execute_result"
    }
   ],
   "source": [
    "%%time\n",
    "da.percentile(s0c0.flatten(), [50.0, 98.8]).compute()"
   ]
  },
  {
   "cell_type": "code",
   "execution_count": null,
   "metadata": {},
   "outputs": [],
   "source": []
  }
 ],
 "metadata": {
  "kernelspec": {
   "display_name": "Python 3",
   "language": "python",
   "name": "python3"
  },
  "language_info": {
   "codemirror_mode": {
    "name": "ipython",
    "version": 3
   },
   "file_extension": ".py",
   "mimetype": "text/x-python",
   "name": "python",
   "nbconvert_exporter": "python",
   "pygments_lexer": "ipython3",
   "version": "3.7.6"
  }
 },
 "nbformat": 4,
 "nbformat_minor": 4
}
